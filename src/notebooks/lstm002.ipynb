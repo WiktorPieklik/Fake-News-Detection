{
  "cells": [
    {
      "cell_type": "markdown",
      "source": [
        "Google Drive "
      ],
      "metadata": {
        "id": "Xnqd1LqtTAcs"
      }
    },
    {
      "cell_type": "code",
      "source": [
        "from google.colab import drive\n",
        "drive.mount('/content/drive')"
      ],
      "metadata": {
        "colab": {
          "base_uri": "https://localhost:8080/"
        },
        "id": "i5nqy4e3-s4e",
        "outputId": "9bf592bb-3fbc-4f71-d1a5-c2caf2d84ff6"
      },
      "execution_count": null,
      "outputs": [
        {
          "output_type": "stream",
          "name": "stdout",
          "text": [
            "Mounted at /content/drive\n"
          ]
        }
      ]
    },
    {
      "cell_type": "markdown",
      "source": [
        "Install dependencies"
      ],
      "metadata": {
        "id": "KZ1hBcCYTD8q"
      }
    },
    {
      "cell_type": "code",
      "source": [
        "!pip install livelossplot -q"
      ],
      "metadata": {
        "id": "cRxhuRepG4qY"
      },
      "execution_count": null,
      "outputs": []
    },
    {
      "cell_type": "markdown",
      "source": [
        "# Imports"
      ],
      "metadata": {
        "id": "bep8iH6UQT-O"
      }
    },
    {
      "cell_type": "code",
      "execution_count": null,
      "outputs": [
        {
          "output_type": "stream",
          "name": "stdout",
          "text": [
            "Number of available GPUs: 1\n"
          ]
        }
      ],
      "source": [
        "import tensorflow as tf\n",
        "from pathlib import Path\n",
        "from os.path import abspath\n",
        "import pandas as pd\n",
        "import os\n",
        "from livelossplot import PlotLossesKeras\n",
        "\n",
        "available_gpus = tf.config.list_physical_devices('GPU')\n",
        "print(f\"Number of available GPUs: {len(available_gpus)}\")\n",
        "\n",
        "try:\n",
        "    tf.config.experimental.set_memory_growth(available_gpus[0], True)\n",
        "except:\n",
        "    pass"
      ],
      "metadata": {
        "colab": {
          "base_uri": "https://localhost:8080/"
        },
        "id": "3GnF-7A1977s",
        "outputId": "037289e8-2fb8-4ffc-93c5-1ba62164c24a"
      }
    },
    {
      "cell_type": "markdown",
      "source": [
        "# Paths"
      ],
      "metadata": {
        "id": "eW9QQc_iQWsG"
      }
    },
    {
      "cell_type": "code",
      "source": [
        "SRC_DIR = Path('/content/drive/MyDrive/TAI/III/nlp/')\n",
        "DATA_DIR = SRC_DIR / \"data\"\n",
        "LOG_DIR = SRC_DIR / 'logs'\n",
        "BEST_MODEL_DIR = LOG_DIR / \"checkpoints\"\n",
        "TENSOR_BOARD_DIR = LOG_DIR / \"tensor_board\""
      ],
      "metadata": {
        "id": "LkcSe5vz_OdM"
      },
      "execution_count": null,
      "outputs": []
    },
    {
      "cell_type": "markdown",
      "source": [
        "# Dataset"
      ],
      "metadata": {
        "id": "01XZdLrhQa4h"
      }
    },
    {
      "cell_type": "markdown",
      "source": [
        "## Load dataset"
      ],
      "metadata": {
        "id": "lR_HVOnPQdFl"
      }
    },
    {
      "cell_type": "code",
      "execution_count": null,
      "outputs": [],
      "source": [
        "dataset_df = pd.read_csv(os.path.join(DATA_DIR, \"dataset.csv\"))"
      ],
      "metadata": {
        "id": "CsC49vMX977w"
      }
    },
    {
      "cell_type": "markdown",
      "source": [
        "## Dataset info"
      ],
      "metadata": {
        "id": "98a_vkk_QzhZ"
      }
    },
    {
      "cell_type": "code",
      "execution_count": null,
      "outputs": [
        {
          "output_type": "stream",
          "name": "stdout",
          "text": [
            "<class 'pandas.core.frame.DataFrame'>\n",
            "RangeIndex: 105354 entries, 0 to 105353\n",
            "Data columns (total 10 columns):\n",
            " #   Column           Non-Null Count   Dtype \n",
            "---  ------           --------------   ----- \n",
            " 0   id               105354 non-null  int64 \n",
            " 1   followers_count  105354 non-null  int64 \n",
            " 2   verified         105354 non-null  bool  \n",
            " 3   reactions_count  105354 non-null  int64 \n",
            " 4   retweet_count    105354 non-null  int64 \n",
            " 5   text             105354 non-null  object\n",
            " 6   source           105354 non-null  object\n",
            " 7   description      89892 non-null   object\n",
            " 8   replies_count    105354 non-null  int64 \n",
            " 9   fake             105354 non-null  bool  \n",
            "dtypes: bool(2), int64(5), object(3)\n",
            "memory usage: 6.6+ MB\n"
          ]
        }
      ],
      "source": [
        "dataset_df.info()"
      ],
      "metadata": {
        "colab": {
          "base_uri": "https://localhost:8080/"
        },
        "id": "ExkxzoM19770",
        "outputId": "340ecbaa-ff04-4335-a031-2794d58176ea"
      }
    },
    {
      "cell_type": "code",
      "execution_count": null,
      "outputs": [
        {
          "output_type": "execute_result",
          "data": {
            "text/plain": [
              "                   id  followers_count  verified  reactions_count  \\\n",
              "0  498254340310966273             1080     False               53   \n",
              "1  498260814487642112             1639     False                1   \n",
              "2  498261272174284801             6612     False                0   \n",
              "3  498261302733967361             1070     False                1   \n",
              "4  498261642099326976             1639     False                5   \n",
              "\n",
              "   retweet_count                                               text  \\\n",
              "0            286  Michael Brown is the 17 yr old boy who was sho...   \n",
              "1              1  @AmeenaGK @jaythenerdkid And how long before a...   \n",
              "2              0  @d_m_elms @AmeenaGK they'll drag his entire hi...   \n",
              "3              2  @d_m_elms @jaythenerdkid or traces back some b...   \n",
              "4              9  @AmeenaGK @jaythenerdkid CHILD KILLED TO PROTE...   \n",
              "\n",
              "                                              source  \\\n",
              "0  <a href=\"http://twitter.com\" rel=\"nofollow\">Tw...   \n",
              "1  <a href=\"http://twitter.com/download/iphone\" r...   \n",
              "2  <a href=\"http://twitter.com/download/android\" ...   \n",
              "3  <a href=\"http://twitter.com\" rel=\"nofollow\">Tw...   \n",
              "4  <a href=\"http://twitter.com/download/iphone\" r...   \n",
              "\n",
              "                                         description  replies_count  fake  \n",
              "0  Sr.Lecturer @IEDP_PennGSE | GlobalDev + Migrat...              0  True  \n",
              "1  #TeamRocketRaccoon #TeamEternia #TeamEtheria #...              0  True  \n",
              "2  muslim cis queer neuroatypical intersectional ...              0  True  \n",
              "3  Sr.Lecturer @IEDP_PennGSE | GlobalDev + Migrat...              0  True  \n",
              "4  #TeamRocketRaccoon #TeamEternia #TeamEtheria #...              0  True  "
            ],
            "text/html": [
              "\n",
              "  <div id=\"df-9b9555e9-a4a4-4f4a-8a32-49294d49db3f\">\n",
              "    <div class=\"colab-df-container\">\n",
              "      <div>\n",
              "<style scoped>\n",
              "    .dataframe tbody tr th:only-of-type {\n",
              "        vertical-align: middle;\n",
              "    }\n",
              "\n",
              "    .dataframe tbody tr th {\n",
              "        vertical-align: top;\n",
              "    }\n",
              "\n",
              "    .dataframe thead th {\n",
              "        text-align: right;\n",
              "    }\n",
              "</style>\n",
              "<table border=\"1\" class=\"dataframe\">\n",
              "  <thead>\n",
              "    <tr style=\"text-align: right;\">\n",
              "      <th></th>\n",
              "      <th>id</th>\n",
              "      <th>followers_count</th>\n",
              "      <th>verified</th>\n",
              "      <th>reactions_count</th>\n",
              "      <th>retweet_count</th>\n",
              "      <th>text</th>\n",
              "      <th>source</th>\n",
              "      <th>description</th>\n",
              "      <th>replies_count</th>\n",
              "      <th>fake</th>\n",
              "    </tr>\n",
              "  </thead>\n",
              "  <tbody>\n",
              "    <tr>\n",
              "      <th>0</th>\n",
              "      <td>498254340310966273</td>\n",
              "      <td>1080</td>\n",
              "      <td>False</td>\n",
              "      <td>53</td>\n",
              "      <td>286</td>\n",
              "      <td>Michael Brown is the 17 yr old boy who was sho...</td>\n",
              "      <td>&lt;a href=\"http://twitter.com\" rel=\"nofollow\"&gt;Tw...</td>\n",
              "      <td>Sr.Lecturer @IEDP_PennGSE | GlobalDev + Migrat...</td>\n",
              "      <td>0</td>\n",
              "      <td>True</td>\n",
              "    </tr>\n",
              "    <tr>\n",
              "      <th>1</th>\n",
              "      <td>498260814487642112</td>\n",
              "      <td>1639</td>\n",
              "      <td>False</td>\n",
              "      <td>1</td>\n",
              "      <td>1</td>\n",
              "      <td>@AmeenaGK @jaythenerdkid And how long before a...</td>\n",
              "      <td>&lt;a href=\"http://twitter.com/download/iphone\" r...</td>\n",
              "      <td>#TeamRocketRaccoon #TeamEternia #TeamEtheria #...</td>\n",
              "      <td>0</td>\n",
              "      <td>True</td>\n",
              "    </tr>\n",
              "    <tr>\n",
              "      <th>2</th>\n",
              "      <td>498261272174284801</td>\n",
              "      <td>6612</td>\n",
              "      <td>False</td>\n",
              "      <td>0</td>\n",
              "      <td>0</td>\n",
              "      <td>@d_m_elms @AmeenaGK they'll drag his entire hi...</td>\n",
              "      <td>&lt;a href=\"http://twitter.com/download/android\" ...</td>\n",
              "      <td>muslim cis queer neuroatypical intersectional ...</td>\n",
              "      <td>0</td>\n",
              "      <td>True</td>\n",
              "    </tr>\n",
              "    <tr>\n",
              "      <th>3</th>\n",
              "      <td>498261302733967361</td>\n",
              "      <td>1070</td>\n",
              "      <td>False</td>\n",
              "      <td>1</td>\n",
              "      <td>2</td>\n",
              "      <td>@d_m_elms @jaythenerdkid or traces back some b...</td>\n",
              "      <td>&lt;a href=\"http://twitter.com\" rel=\"nofollow\"&gt;Tw...</td>\n",
              "      <td>Sr.Lecturer @IEDP_PennGSE | GlobalDev + Migrat...</td>\n",
              "      <td>0</td>\n",
              "      <td>True</td>\n",
              "    </tr>\n",
              "    <tr>\n",
              "      <th>4</th>\n",
              "      <td>498261642099326976</td>\n",
              "      <td>1639</td>\n",
              "      <td>False</td>\n",
              "      <td>5</td>\n",
              "      <td>9</td>\n",
              "      <td>@AmeenaGK @jaythenerdkid CHILD KILLED TO PROTE...</td>\n",
              "      <td>&lt;a href=\"http://twitter.com/download/iphone\" r...</td>\n",
              "      <td>#TeamRocketRaccoon #TeamEternia #TeamEtheria #...</td>\n",
              "      <td>0</td>\n",
              "      <td>True</td>\n",
              "    </tr>\n",
              "  </tbody>\n",
              "</table>\n",
              "</div>\n",
              "      <button class=\"colab-df-convert\" onclick=\"convertToInteractive('df-9b9555e9-a4a4-4f4a-8a32-49294d49db3f')\"\n",
              "              title=\"Convert this dataframe to an interactive table.\"\n",
              "              style=\"display:none;\">\n",
              "        \n",
              "  <svg xmlns=\"http://www.w3.org/2000/svg\" height=\"24px\"viewBox=\"0 0 24 24\"\n",
              "       width=\"24px\">\n",
              "    <path d=\"M0 0h24v24H0V0z\" fill=\"none\"/>\n",
              "    <path d=\"M18.56 5.44l.94 2.06.94-2.06 2.06-.94-2.06-.94-.94-2.06-.94 2.06-2.06.94zm-11 1L8.5 8.5l.94-2.06 2.06-.94-2.06-.94L8.5 2.5l-.94 2.06-2.06.94zm10 10l.94 2.06.94-2.06 2.06-.94-2.06-.94-.94-2.06-.94 2.06-2.06.94z\"/><path d=\"M17.41 7.96l-1.37-1.37c-.4-.4-.92-.59-1.43-.59-.52 0-1.04.2-1.43.59L10.3 9.45l-7.72 7.72c-.78.78-.78 2.05 0 2.83L4 21.41c.39.39.9.59 1.41.59.51 0 1.02-.2 1.41-.59l7.78-7.78 2.81-2.81c.8-.78.8-2.07 0-2.86zM5.41 20L4 18.59l7.72-7.72 1.47 1.35L5.41 20z\"/>\n",
              "  </svg>\n",
              "      </button>\n",
              "      \n",
              "  <style>\n",
              "    .colab-df-container {\n",
              "      display:flex;\n",
              "      flex-wrap:wrap;\n",
              "      gap: 12px;\n",
              "    }\n",
              "\n",
              "    .colab-df-convert {\n",
              "      background-color: #E8F0FE;\n",
              "      border: none;\n",
              "      border-radius: 50%;\n",
              "      cursor: pointer;\n",
              "      display: none;\n",
              "      fill: #1967D2;\n",
              "      height: 32px;\n",
              "      padding: 0 0 0 0;\n",
              "      width: 32px;\n",
              "    }\n",
              "\n",
              "    .colab-df-convert:hover {\n",
              "      background-color: #E2EBFA;\n",
              "      box-shadow: 0px 1px 2px rgba(60, 64, 67, 0.3), 0px 1px 3px 1px rgba(60, 64, 67, 0.15);\n",
              "      fill: #174EA6;\n",
              "    }\n",
              "\n",
              "    [theme=dark] .colab-df-convert {\n",
              "      background-color: #3B4455;\n",
              "      fill: #D2E3FC;\n",
              "    }\n",
              "\n",
              "    [theme=dark] .colab-df-convert:hover {\n",
              "      background-color: #434B5C;\n",
              "      box-shadow: 0px 1px 3px 1px rgba(0, 0, 0, 0.15);\n",
              "      filter: drop-shadow(0px 1px 2px rgba(0, 0, 0, 0.3));\n",
              "      fill: #FFFFFF;\n",
              "    }\n",
              "  </style>\n",
              "\n",
              "      <script>\n",
              "        const buttonEl =\n",
              "          document.querySelector('#df-9b9555e9-a4a4-4f4a-8a32-49294d49db3f button.colab-df-convert');\n",
              "        buttonEl.style.display =\n",
              "          google.colab.kernel.accessAllowed ? 'block' : 'none';\n",
              "\n",
              "        async function convertToInteractive(key) {\n",
              "          const element = document.querySelector('#df-9b9555e9-a4a4-4f4a-8a32-49294d49db3f');\n",
              "          const dataTable =\n",
              "            await google.colab.kernel.invokeFunction('convertToInteractive',\n",
              "                                                     [key], {});\n",
              "          if (!dataTable) return;\n",
              "\n",
              "          const docLinkHtml = 'Like what you see? Visit the ' +\n",
              "            '<a target=\"_blank\" href=https://colab.research.google.com/notebooks/data_table.ipynb>data table notebook</a>'\n",
              "            + ' to learn more about interactive tables.';\n",
              "          element.innerHTML = '';\n",
              "          dataTable['output_type'] = 'display_data';\n",
              "          await google.colab.output.renderOutput(dataTable, element);\n",
              "          const docLink = document.createElement('div');\n",
              "          docLink.innerHTML = docLinkHtml;\n",
              "          element.appendChild(docLink);\n",
              "        }\n",
              "      </script>\n",
              "    </div>\n",
              "  </div>\n",
              "  "
            ]
          },
          "metadata": {},
          "execution_count": 7
        }
      ],
      "source": [
        "dataset_df.head()"
      ],
      "metadata": {
        "colab": {
          "base_uri": "https://localhost:8080/",
          "height": 424
        },
        "id": "rboS6i8t9772",
        "outputId": "08dffbba-b82c-4a30-ad3e-77c1a2df5ce2"
      }
    },
    {
      "cell_type": "code",
      "execution_count": null,
      "outputs": [
        {
          "output_type": "execute_result",
          "data": {
            "text/plain": [
              "False    72229\n",
              "True     33125\n",
              "Name: fake, dtype: int64"
            ]
          },
          "metadata": {},
          "execution_count": 8
        }
      ],
      "source": [
        "dataset_df['fake'].value_counts()"
      ],
      "metadata": {
        "colab": {
          "base_uri": "https://localhost:8080/"
        },
        "id": "1VNUSH7a9776",
        "outputId": "91c87387-7da7-4f6f-a783-c3f9e3477a99"
      }
    },
    {
      "cell_type": "markdown",
      "source": [
        "Duplicates and NaNs"
      ],
      "metadata": {
        "id": "hzcuRr3vQhmL"
      }
    },
    {
      "cell_type": "code",
      "execution_count": null,
      "outputs": [
        {
          "output_type": "execute_result",
          "data": {
            "text/plain": [
              "0"
            ]
          },
          "metadata": {},
          "execution_count": 9
        }
      ],
      "source": [
        "dataset_df.duplicated().sum()"
      ],
      "metadata": {
        "colab": {
          "base_uri": "https://localhost:8080/"
        },
        "id": "yo5jfvfA9777",
        "outputId": "53fb4635-f945-4fc9-a1c2-41c656aea16d"
      }
    },
    {
      "cell_type": "code",
      "execution_count": null,
      "outputs": [
        {
          "output_type": "execute_result",
          "data": {
            "text/plain": [
              "id                     0\n",
              "followers_count        0\n",
              "verified               0\n",
              "reactions_count        0\n",
              "retweet_count          0\n",
              "text                   0\n",
              "source                 0\n",
              "description        15462\n",
              "replies_count          0\n",
              "fake                   0\n",
              "dtype: int64"
            ]
          },
          "metadata": {},
          "execution_count": 10
        }
      ],
      "source": [
        "dataset_df.isnull().sum()"
      ],
      "metadata": {
        "colab": {
          "base_uri": "https://localhost:8080/"
        },
        "id": "P51VxxxP9778",
        "outputId": "7fc8ac5f-d526-43d4-9507-678cd91d62bd"
      }
    },
    {
      "cell_type": "markdown",
      "source": [
        "## Clean data"
      ],
      "metadata": {
        "id": "atLm5V72Rg9w"
      }
    },
    {
      "cell_type": "markdown",
      "source": [
        "### Drop NaNs"
      ],
      "metadata": {
        "id": "VGTey60vRRle"
      }
    },
    {
      "cell_type": "code",
      "execution_count": null,
      "outputs": [],
      "source": [
        "dataset_df = df = dataset_df.fillna('')"
      ],
      "metadata": {
        "id": "vH-ny4n19779"
      }
    },
    {
      "cell_type": "markdown",
      "source": [
        "## Map type to int"
      ],
      "metadata": {
        "id": "M9XW5mwzRv5i"
      }
    },
    {
      "cell_type": "code",
      "execution_count": null,
      "outputs": [],
      "source": [
        "mapping = {False: 0, True: 1}\n",
        "dataset_df['class'] = dataset_df['fake']\n",
        "dataset_df = dataset_df.replace({'class': mapping})"
      ],
      "metadata": {
        "id": "4FsB7qmG978D"
      }
    },
    {
      "cell_type": "markdown",
      "source": [
        "## Merge title and text"
      ],
      "metadata": {
        "id": "JK_l88pvR7Yr"
      }
    },
    {
      "cell_type": "code",
      "execution_count": null,
      "outputs": [],
      "source": [
        "dataset_df['text_combined'] = dataset_df['text'] + ' ' + dataset_df['description']"
      ],
      "metadata": {
        "id": "mBFoM3BZ977_"
      }
    },
    {
      "cell_type": "code",
      "source": [
        "dataset_df.head()"
      ],
      "metadata": {
        "colab": {
          "base_uri": "https://localhost:8080/",
          "height": 531
        },
        "id": "mRBRNerjnPpU",
        "outputId": "f284175f-f09d-4657-ce8b-7b23cc36a921"
      },
      "execution_count": null,
      "outputs": [
        {
          "output_type": "execute_result",
          "data": {
            "text/plain": [
              "                   id  followers_count  verified  reactions_count  \\\n",
              "0  498254340310966273             1080     False               53   \n",
              "1  498260814487642112             1639     False                1   \n",
              "2  498261272174284801             6612     False                0   \n",
              "3  498261302733967361             1070     False                1   \n",
              "4  498261642099326976             1639     False                5   \n",
              "\n",
              "   retweet_count                                               text  \\\n",
              "0            286  Michael Brown is the 17 yr old boy who was sho...   \n",
              "1              1  @AmeenaGK @jaythenerdkid And how long before a...   \n",
              "2              0  @d_m_elms @AmeenaGK they'll drag his entire hi...   \n",
              "3              2  @d_m_elms @jaythenerdkid or traces back some b...   \n",
              "4              9  @AmeenaGK @jaythenerdkid CHILD KILLED TO PROTE...   \n",
              "\n",
              "                                              source  \\\n",
              "0  <a href=\"http://twitter.com\" rel=\"nofollow\">Tw...   \n",
              "1  <a href=\"http://twitter.com/download/iphone\" r...   \n",
              "2  <a href=\"http://twitter.com/download/android\" ...   \n",
              "3  <a href=\"http://twitter.com\" rel=\"nofollow\">Tw...   \n",
              "4  <a href=\"http://twitter.com/download/iphone\" r...   \n",
              "\n",
              "                                         description  replies_count  fake  \\\n",
              "0  Sr.Lecturer @IEDP_PennGSE | GlobalDev + Migrat...              0  True   \n",
              "1  #TeamRocketRaccoon #TeamEternia #TeamEtheria #...              0  True   \n",
              "2  muslim cis queer neuroatypical intersectional ...              0  True   \n",
              "3  Sr.Lecturer @IEDP_PennGSE | GlobalDev + Migrat...              0  True   \n",
              "4  #TeamRocketRaccoon #TeamEternia #TeamEtheria #...              0  True   \n",
              "\n",
              "   class                                      text_combined  \n",
              "0      1  Michael Brown is the 17 yr old boy who was sho...  \n",
              "1      1  @AmeenaGK @jaythenerdkid And how long before a...  \n",
              "2      1  @d_m_elms @AmeenaGK they'll drag his entire hi...  \n",
              "3      1  @d_m_elms @jaythenerdkid or traces back some b...  \n",
              "4      1  @AmeenaGK @jaythenerdkid CHILD KILLED TO PROTE...  "
            ],
            "text/html": [
              "\n",
              "  <div id=\"df-cef98be6-78d6-4081-b408-1923b0526dab\">\n",
              "    <div class=\"colab-df-container\">\n",
              "      <div>\n",
              "<style scoped>\n",
              "    .dataframe tbody tr th:only-of-type {\n",
              "        vertical-align: middle;\n",
              "    }\n",
              "\n",
              "    .dataframe tbody tr th {\n",
              "        vertical-align: top;\n",
              "    }\n",
              "\n",
              "    .dataframe thead th {\n",
              "        text-align: right;\n",
              "    }\n",
              "</style>\n",
              "<table border=\"1\" class=\"dataframe\">\n",
              "  <thead>\n",
              "    <tr style=\"text-align: right;\">\n",
              "      <th></th>\n",
              "      <th>id</th>\n",
              "      <th>followers_count</th>\n",
              "      <th>verified</th>\n",
              "      <th>reactions_count</th>\n",
              "      <th>retweet_count</th>\n",
              "      <th>text</th>\n",
              "      <th>source</th>\n",
              "      <th>description</th>\n",
              "      <th>replies_count</th>\n",
              "      <th>fake</th>\n",
              "      <th>class</th>\n",
              "      <th>text_combined</th>\n",
              "    </tr>\n",
              "  </thead>\n",
              "  <tbody>\n",
              "    <tr>\n",
              "      <th>0</th>\n",
              "      <td>498254340310966273</td>\n",
              "      <td>1080</td>\n",
              "      <td>False</td>\n",
              "      <td>53</td>\n",
              "      <td>286</td>\n",
              "      <td>Michael Brown is the 17 yr old boy who was sho...</td>\n",
              "      <td>&lt;a href=\"http://twitter.com\" rel=\"nofollow\"&gt;Tw...</td>\n",
              "      <td>Sr.Lecturer @IEDP_PennGSE | GlobalDev + Migrat...</td>\n",
              "      <td>0</td>\n",
              "      <td>True</td>\n",
              "      <td>1</td>\n",
              "      <td>Michael Brown is the 17 yr old boy who was sho...</td>\n",
              "    </tr>\n",
              "    <tr>\n",
              "      <th>1</th>\n",
              "      <td>498260814487642112</td>\n",
              "      <td>1639</td>\n",
              "      <td>False</td>\n",
              "      <td>1</td>\n",
              "      <td>1</td>\n",
              "      <td>@AmeenaGK @jaythenerdkid And how long before a...</td>\n",
              "      <td>&lt;a href=\"http://twitter.com/download/iphone\" r...</td>\n",
              "      <td>#TeamRocketRaccoon #TeamEternia #TeamEtheria #...</td>\n",
              "      <td>0</td>\n",
              "      <td>True</td>\n",
              "      <td>1</td>\n",
              "      <td>@AmeenaGK @jaythenerdkid And how long before a...</td>\n",
              "    </tr>\n",
              "    <tr>\n",
              "      <th>2</th>\n",
              "      <td>498261272174284801</td>\n",
              "      <td>6612</td>\n",
              "      <td>False</td>\n",
              "      <td>0</td>\n",
              "      <td>0</td>\n",
              "      <td>@d_m_elms @AmeenaGK they'll drag his entire hi...</td>\n",
              "      <td>&lt;a href=\"http://twitter.com/download/android\" ...</td>\n",
              "      <td>muslim cis queer neuroatypical intersectional ...</td>\n",
              "      <td>0</td>\n",
              "      <td>True</td>\n",
              "      <td>1</td>\n",
              "      <td>@d_m_elms @AmeenaGK they'll drag his entire hi...</td>\n",
              "    </tr>\n",
              "    <tr>\n",
              "      <th>3</th>\n",
              "      <td>498261302733967361</td>\n",
              "      <td>1070</td>\n",
              "      <td>False</td>\n",
              "      <td>1</td>\n",
              "      <td>2</td>\n",
              "      <td>@d_m_elms @jaythenerdkid or traces back some b...</td>\n",
              "      <td>&lt;a href=\"http://twitter.com\" rel=\"nofollow\"&gt;Tw...</td>\n",
              "      <td>Sr.Lecturer @IEDP_PennGSE | GlobalDev + Migrat...</td>\n",
              "      <td>0</td>\n",
              "      <td>True</td>\n",
              "      <td>1</td>\n",
              "      <td>@d_m_elms @jaythenerdkid or traces back some b...</td>\n",
              "    </tr>\n",
              "    <tr>\n",
              "      <th>4</th>\n",
              "      <td>498261642099326976</td>\n",
              "      <td>1639</td>\n",
              "      <td>False</td>\n",
              "      <td>5</td>\n",
              "      <td>9</td>\n",
              "      <td>@AmeenaGK @jaythenerdkid CHILD KILLED TO PROTE...</td>\n",
              "      <td>&lt;a href=\"http://twitter.com/download/iphone\" r...</td>\n",
              "      <td>#TeamRocketRaccoon #TeamEternia #TeamEtheria #...</td>\n",
              "      <td>0</td>\n",
              "      <td>True</td>\n",
              "      <td>1</td>\n",
              "      <td>@AmeenaGK @jaythenerdkid CHILD KILLED TO PROTE...</td>\n",
              "    </tr>\n",
              "  </tbody>\n",
              "</table>\n",
              "</div>\n",
              "      <button class=\"colab-df-convert\" onclick=\"convertToInteractive('df-cef98be6-78d6-4081-b408-1923b0526dab')\"\n",
              "              title=\"Convert this dataframe to an interactive table.\"\n",
              "              style=\"display:none;\">\n",
              "        \n",
              "  <svg xmlns=\"http://www.w3.org/2000/svg\" height=\"24px\"viewBox=\"0 0 24 24\"\n",
              "       width=\"24px\">\n",
              "    <path d=\"M0 0h24v24H0V0z\" fill=\"none\"/>\n",
              "    <path d=\"M18.56 5.44l.94 2.06.94-2.06 2.06-.94-2.06-.94-.94-2.06-.94 2.06-2.06.94zm-11 1L8.5 8.5l.94-2.06 2.06-.94-2.06-.94L8.5 2.5l-.94 2.06-2.06.94zm10 10l.94 2.06.94-2.06 2.06-.94-2.06-.94-.94-2.06-.94 2.06-2.06.94z\"/><path d=\"M17.41 7.96l-1.37-1.37c-.4-.4-.92-.59-1.43-.59-.52 0-1.04.2-1.43.59L10.3 9.45l-7.72 7.72c-.78.78-.78 2.05 0 2.83L4 21.41c.39.39.9.59 1.41.59.51 0 1.02-.2 1.41-.59l7.78-7.78 2.81-2.81c.8-.78.8-2.07 0-2.86zM5.41 20L4 18.59l7.72-7.72 1.47 1.35L5.41 20z\"/>\n",
              "  </svg>\n",
              "      </button>\n",
              "      \n",
              "  <style>\n",
              "    .colab-df-container {\n",
              "      display:flex;\n",
              "      flex-wrap:wrap;\n",
              "      gap: 12px;\n",
              "    }\n",
              "\n",
              "    .colab-df-convert {\n",
              "      background-color: #E8F0FE;\n",
              "      border: none;\n",
              "      border-radius: 50%;\n",
              "      cursor: pointer;\n",
              "      display: none;\n",
              "      fill: #1967D2;\n",
              "      height: 32px;\n",
              "      padding: 0 0 0 0;\n",
              "      width: 32px;\n",
              "    }\n",
              "\n",
              "    .colab-df-convert:hover {\n",
              "      background-color: #E2EBFA;\n",
              "      box-shadow: 0px 1px 2px rgba(60, 64, 67, 0.3), 0px 1px 3px 1px rgba(60, 64, 67, 0.15);\n",
              "      fill: #174EA6;\n",
              "    }\n",
              "\n",
              "    [theme=dark] .colab-df-convert {\n",
              "      background-color: #3B4455;\n",
              "      fill: #D2E3FC;\n",
              "    }\n",
              "\n",
              "    [theme=dark] .colab-df-convert:hover {\n",
              "      background-color: #434B5C;\n",
              "      box-shadow: 0px 1px 3px 1px rgba(0, 0, 0, 0.15);\n",
              "      filter: drop-shadow(0px 1px 2px rgba(0, 0, 0, 0.3));\n",
              "      fill: #FFFFFF;\n",
              "    }\n",
              "  </style>\n",
              "\n",
              "      <script>\n",
              "        const buttonEl =\n",
              "          document.querySelector('#df-cef98be6-78d6-4081-b408-1923b0526dab button.colab-df-convert');\n",
              "        buttonEl.style.display =\n",
              "          google.colab.kernel.accessAllowed ? 'block' : 'none';\n",
              "\n",
              "        async function convertToInteractive(key) {\n",
              "          const element = document.querySelector('#df-cef98be6-78d6-4081-b408-1923b0526dab');\n",
              "          const dataTable =\n",
              "            await google.colab.kernel.invokeFunction('convertToInteractive',\n",
              "                                                     [key], {});\n",
              "          if (!dataTable) return;\n",
              "\n",
              "          const docLinkHtml = 'Like what you see? Visit the ' +\n",
              "            '<a target=\"_blank\" href=https://colab.research.google.com/notebooks/data_table.ipynb>data table notebook</a>'\n",
              "            + ' to learn more about interactive tables.';\n",
              "          element.innerHTML = '';\n",
              "          dataTable['output_type'] = 'display_data';\n",
              "          await google.colab.output.renderOutput(dataTable, element);\n",
              "          const docLink = document.createElement('div');\n",
              "          docLink.innerHTML = docLinkHtml;\n",
              "          element.appendChild(docLink);\n",
              "        }\n",
              "      </script>\n",
              "    </div>\n",
              "  </div>\n",
              "  "
            ]
          },
          "metadata": {},
          "execution_count": 14
        }
      ]
    },
    {
      "cell_type": "markdown",
      "source": [
        "## Split dataset to train, val and test"
      ],
      "metadata": {
        "id": "kz-xVZswSCSb"
      }
    },
    {
      "cell_type": "markdown",
      "source": [
        "Function"
      ],
      "metadata": {
        "id": "43gCRO8PSHvc"
      }
    },
    {
      "cell_type": "code",
      "execution_count": null,
      "outputs": [],
      "source": [
        "from sklearn.model_selection import train_test_split\n",
        "def split_data(data, labels, valid_part_size = 0.15, test_part_size = 0.15):\n",
        "\n",
        "    # Split the dataset into train, validation, and test\n",
        "    X_train, X_test, y_train, y_test = train_test_split(\n",
        "        data, \n",
        "        labels, \n",
        "        test_size = test_part_size, \n",
        "        stratify = labels, \n",
        "        random_state = 1234\n",
        "        )\n",
        "    \n",
        "    X_train, X_val, y_train, y_val = train_test_split(\n",
        "        X_train, \n",
        "        y_train, \n",
        "        test_size = valid_part_size/(1 - test_part_size), \n",
        "        stratify = y_train, \n",
        "        random_state = 1234\n",
        "        )\n",
        "\n",
        "    return (X_train, y_train), (X_val, y_val), (X_test, y_test)"
      ],
      "metadata": {
        "id": "6o4ThOns978D"
      }
    },
    {
      "cell_type": "code",
      "source": [
        "(X_train, y_train), (X_val, y_val), (X_test,y_test) = split_data(\n",
        "    dataset_df['text_combined'], \n",
        "    dataset_df['class'], \n",
        "    0.15, \n",
        "    0.15\n",
        ")"
      ],
      "metadata": {
        "id": "rIxlS55BDdwD"
      },
      "execution_count": null,
      "outputs": []
    },
    {
      "cell_type": "markdown",
      "source": [
        "### Convert X to list"
      ],
      "metadata": {
        "id": "hcHDorQuSNKH"
      }
    },
    {
      "cell_type": "code",
      "source": [
        "X_train =  tf.constant(X_train, dtype=tf.string)\n",
        "X_test =  tf.constant(X_test, dtype=tf.string)\n",
        "X_val =  tf.constant(X_val, dtype=tf.string)"
      ],
      "metadata": {
        "id": "iDzm3cBYEZgi"
      },
      "execution_count": null,
      "outputs": []
    },
    {
      "cell_type": "markdown",
      "source": [
        "### Convert Y to categorical"
      ],
      "metadata": {
        "id": "Wx2qc1bNSTZo"
      }
    },
    {
      "cell_type": "code",
      "execution_count": null,
      "outputs": [],
      "source": [
        "y_train = tf.constant(y_train, dtype='float32')\n",
        "y_test = tf.constant(y_test, dtype='float32')\n",
        "y_val = tf.constant(y_val, dtype='float32')"
      ],
      "metadata": {
        "id": "iwuY2kvR978J"
      }
    },
    {
      "cell_type": "markdown",
      "source": [
        "# Model"
      ],
      "metadata": {
        "id": "4PW6yRP1SXjH"
      }
    },
    {
      "cell_type": "markdown",
      "source": [
        "## Parameters"
      ],
      "metadata": {
        "id": "f7mG7j4lSdbu"
      }
    },
    {
      "cell_type": "code",
      "execution_count": null,
      "outputs": [],
      "source": [
        "BATCH_SIZE = 256\n",
        "EPOCHS = 100\n",
        "TEST_SPLIT = 0.15\n",
        "VALID_SPLIT = 0.15\n",
        "SEED = 1234\n",
        "VOCABULARY_SIZE = 100000\n",
        "MAX_SEQUENCE_LEN = 250\n",
        "EMBEDDING_DIM = 75"
      ],
      "metadata": {
        "id": "8vtwmd63978K"
      }
    },
    {
      "cell_type": "markdown",
      "source": [
        "## Vectorization layer"
      ],
      "metadata": {
        "id": "hKhrPe1MSkaH"
      }
    },
    {
      "cell_type": "code",
      "execution_count": null,
      "outputs": [],
      "source": [
        "vectorize_layer = tf.keras.layers.TextVectorization(\n",
        "    max_tokens=VOCABULARY_SIZE,\n",
        "    standardize='lower',\n",
        "    split='whitespace',\n",
        "    ngrams=None,\n",
        "    output_mode='int',\n",
        "    output_sequence_length=MAX_SEQUENCE_LEN,\n",
        ")\n",
        "vectorize_layer.adapt(X_train, batch_size=BATCH_SIZE)"
      ],
      "metadata": {
        "id": "kXtvlJhg978L"
      }
    },
    {
      "cell_type": "markdown",
      "source": [
        "## Model architecture"
      ],
      "metadata": {
        "id": "ZWe82VplSnx6"
      }
    },
    {
      "cell_type": "code",
      "execution_count": null,
      "outputs": [
        {
          "output_type": "stream",
          "name": "stdout",
          "text": [
            "Model: \"sequential_3\"\n",
            "_________________________________________________________________\n",
            " Layer (type)                Output Shape              Param #   \n",
            "=================================================================\n",
            " text_vectorization (TextVec  (None, 250)              0         \n",
            " torization)                                                     \n",
            "                                                                 \n",
            " embedding_2 (Embedding)     (None, 250, 75)           7500000   \n",
            "                                                                 \n",
            " bidirectional_4 (Bidirectio  (None, 250, 2056)        9079296   \n",
            " nal)                                                            \n",
            "                                                                 \n",
            " bidirectional_5 (Bidirectio  (None, 256)              2237440   \n",
            " nal)                                                            \n",
            "                                                                 \n",
            " dense_2 (Dense)             (None, 1)                 257       \n",
            "                                                                 \n",
            "=================================================================\n",
            "Total params: 18,816,993\n",
            "Trainable params: 18,816,993\n",
            "Non-trainable params: 0\n",
            "_________________________________________________________________\n"
          ]
        }
      ],
      "source": [
        "model = tf.keras.Sequential([\n",
        "    tf.keras.layers.Input(shape=(1,), dtype=tf.string),\n",
        "    vectorize_layer,\n",
        "    tf.keras.layers.Embedding(input_dim=VOCABULARY_SIZE, output_dim=EMBEDDING_DIM),\n",
        "    tf.keras.layers.Bidirectional(tf.keras.layers.LSTM(1028, return_sequences=True)),\n",
        "    tf.keras.layers.Bidirectional(tf.keras.layers.LSTM(128)),\n",
        "    tf.keras.layers.Dense(1, activation='sigmoid')\n",
        "])\n",
        "model.summary()"
      ],
      "metadata": {
        "colab": {
          "base_uri": "https://localhost:8080/"
        },
        "id": "ol9wfTKs978M",
        "outputId": "0ed79494-7045-4dab-bd2d-c1cf2b0c14c6"
      }
    },
    {
      "cell_type": "markdown",
      "source": [
        "## Metrics"
      ],
      "metadata": {
        "id": "5yZPiIQaSv_G"
      }
    },
    {
      "cell_type": "code",
      "source": [
        "METRICS = [\n",
        "        tf.keras.metrics.BinaryAccuracy(name='accuracy'),\n",
        "        tf.keras.metrics.Recall(name='recall'),\n",
        "        tf.keras.metrics.Precision(name='precision'),\n",
        "        tf.keras.metrics.AUC(name='auc'),\n",
        "    ]"
      ],
      "metadata": {
        "id": "MHLUKun6L4BX"
      },
      "execution_count": null,
      "outputs": []
    },
    {
      "cell_type": "markdown",
      "source": [
        "## Compile"
      ],
      "metadata": {
        "id": "DKpuYg_pSxcR"
      }
    },
    {
      "cell_type": "code",
      "execution_count": null,
      "outputs": [],
      "source": [
        "model.compile(\n",
        "    loss=tf.keras.losses.BinaryCrossentropy(),\n",
        "    optimizer=tf.keras.optimizers.Adam(),\n",
        "    metrics= METRICS \n",
        ")"
      ],
      "metadata": {
        "id": "_zCuStDA978N"
      }
    },
    {
      "cell_type": "markdown",
      "source": [
        "## Callbacks"
      ],
      "metadata": {
        "id": "p4l3FaN7Sy5r"
      }
    },
    {
      "cell_type": "code",
      "source": [
        "BEST_MODEL_FILE = BEST_MODEL_DIR / \"lstm002_best\"\n",
        "\n",
        "early_stop = tf.keras.callbacks.EarlyStopping(monitor='val_loss', patience=7, verbose=1, min_delta=0.001)\n",
        "save_best = tf.keras.callbacks.ModelCheckpoint(filepath=BEST_MODEL_FILE, monitor='val_loss', save_best_only=True)\n",
        "csv_logger = tf.keras.callbacks.CSVLogger(filename=LOG_DIR / \"history2.csv\")\n",
        "tensorboard_cb = tf.keras.callbacks.TensorBoard(log_dir=str(TENSOR_BOARD_DIR.resolve()))"
      ],
      "metadata": {
        "id": "qCRo89RMGppr"
      },
      "execution_count": null,
      "outputs": []
    },
    {
      "cell_type": "markdown",
      "source": [
        "## Train"
      ],
      "metadata": {
        "id": "H3seohfhS0vV"
      }
    },
    {
      "cell_type": "code",
      "execution_count": 35,
      "outputs": [
        {
          "metadata": {
            "tags": null
          },
          "name": "stdout",
          "output_type": "stream",
          "text": [
            "Epoch 1/100\n",
            "289/289 [==============================] - ETA: 0s - loss: 0.3743 - accuracy: 0.8184 - recall: 0.6001 - precision: 0.7714 - auc: 0.8757"
          ]
        },
        {
          "metadata": {
            "tags": null
          },
          "name": "stderr",
          "output_type": "stream",
          "text": [
            "WARNING:absl:Found untraced functions such as lstm_cell_13_layer_call_fn, lstm_cell_13_layer_call_and_return_conditional_losses, lstm_cell_14_layer_call_fn, lstm_cell_14_layer_call_and_return_conditional_losses, lstm_cell_16_layer_call_fn while saving (showing 5 of 8). These functions will not be directly callable after loading.\n"
          ]
        },
        {
          "metadata": {
            "tags": null
          },
          "name": "stdout",
          "output_type": "stream",
          "text": [
            "289/289 [==============================] - 579s 2s/step - loss: 0.3743 - accuracy: 0.8184 - recall: 0.6001 - precision: 0.7714 - auc: 0.8757 - val_loss: 0.2757 - val_accuracy: 0.8773 - val_recall: 0.7219 - val_precision: 0.8656 - val_auc: 0.9485\n",
            "Epoch 2/100\n",
            "289/289 [==============================] - ETA: 0s - loss: 0.1737 - accuracy: 0.9272 - recall: 0.8843 - precision: 0.8842 - auc: 0.9785"
          ]
        },
        {
          "metadata": {
            "tags": null
          },
          "name": "stderr",
          "output_type": "stream",
          "text": [
            "WARNING:absl:Found untraced functions such as lstm_cell_13_layer_call_fn, lstm_cell_13_layer_call_and_return_conditional_losses, lstm_cell_14_layer_call_fn, lstm_cell_14_layer_call_and_return_conditional_losses, lstm_cell_16_layer_call_fn while saving (showing 5 of 8). These functions will not be directly callable after loading.\n"
          ]
        },
        {
          "output_type": "stream",
          "name": "stdout",
          "text": [
            "289/289 [==============================] - 569s 2s/step - loss: 0.1737 - accuracy: 0.9272 - recall: 0.8843 - precision: 0.8842 - auc: 0.9785 - val_loss: 0.2596 - val_accuracy: 0.8849 - val_recall: 0.7692 - val_precision: 0.8505 - val_auc: 0.9533\n",
            "Epoch 3/100\n",
            "289/289 [==============================] - 545s 2s/step - loss: 0.0964 - accuracy: 0.9620 - recall: 0.9406 - precision: 0.9387 - auc: 0.9930 - val_loss: 0.3009 - val_accuracy: 0.8822 - val_recall: 0.8112 - val_precision: 0.8135 - val_auc: 0.9472\n",
            "Epoch 4/100\n",
            "289/289 [==============================] - 543s 2s/step - loss: 0.0603 - accuracy: 0.9777 - recall: 0.9664 - precision: 0.9628 - auc: 0.9968 - val_loss: 0.3985 - val_accuracy: 0.8731 - val_recall: 0.7851 - val_precision: 0.8062 - val_auc: 0.9337\n",
            "Epoch 5/100\n",
            "289/289 [==============================] - 542s 2s/step - loss: 0.0375 - accuracy: 0.9855 - recall: 0.9777 - precision: 0.9762 - auc: 0.9987 - val_loss: 0.4680 - val_accuracy: 0.8711 - val_recall: 0.8050 - val_precision: 0.7893 - val_auc: 0.9283\n",
            "Epoch 6/100\n",
            "289/289 [==============================] - 532s 2s/step - loss: 0.0251 - accuracy: 0.9902 - recall: 0.9849 - precision: 0.9840 - auc: 0.9992 - val_loss: 0.5469 - val_accuracy: 0.8713 - val_recall: 0.7764 - val_precision: 0.8069 - val_auc: 0.9157\n",
            "Epoch 7/100\n",
            "289/289 [==============================] - 542s 2s/step - loss: 0.0185 - accuracy: 0.9923 - recall: 0.9874 - precision: 0.9881 - auc: 0.9996 - val_loss: 0.7555 - val_accuracy: 0.8593 - val_recall: 0.7901 - val_precision: 0.7689 - val_auc: 0.8955\n",
            "Epoch 8/100\n",
            "289/289 [==============================] - 534s 2s/step - loss: 0.0169 - accuracy: 0.9933 - recall: 0.9899 - precision: 0.9889 - auc: 0.9996 - val_loss: 0.5775 - val_accuracy: 0.8743 - val_recall: 0.7511 - val_precision: 0.8327 - val_auc: 0.9092\n",
            "Epoch 9/100\n",
            "289/289 [==============================] - 535s 2s/step - loss: 0.0152 - accuracy: 0.9933 - recall: 0.9894 - precision: 0.9894 - auc: 0.9997 - val_loss: 0.7107 - val_accuracy: 0.8675 - val_recall: 0.7670 - val_precision: 0.8028 - val_auc: 0.8976\n",
            "Epoch 9: early stopping\n"
          ]
        }
      ],
      "source": [
        "history = model.fit(\n",
        "    X_train, y_train,\n",
        "    epochs=EPOCHS,\n",
        "    batch_size=BATCH_SIZE,\n",
        "    validation_data=(X_val, y_val),\n",
        "    callbacks=[save_best, early_stop, csv_logger],\n",
        "    )"
      ],
      "metadata": {
        "colab": {
          "base_uri": "https://localhost:8080/"
        },
        "id": "ZZ6EnqD3978O",
        "outputId": "7e4f7a48-dc16-4399-c8fe-d57e838421c5"
      }
    },
    {
      "cell_type": "markdown",
      "source": [
        "## Plot metrics history"
      ],
      "metadata": {
        "id": "8l5Ug3E2S18-"
      }
    },
    {
      "cell_type": "code",
      "source": [
        "import matplotlib.pyplot as plt\n",
        "\n",
        "colors = plt.rcParams['axes.prop_cycle'].by_key()['color']\n",
        "\n",
        "def plot_metrics(history, metric_names):\n",
        "  for n, metric in enumerate(metric_names):\n",
        "    name = metric.replace(\"_\",\" \").capitalize()\n",
        "    plt.subplot(3,2,n+1)\n",
        "    plt.plot(history.epoch, history.history[metric], color=colors[0], label='Train')\n",
        "    plt.plot(history.epoch, history.history['val_'+metric],\n",
        "             color=colors[0], linestyle=\"--\", label='Val')\n",
        "    plt.xlabel('Epoch')\n",
        "    plt.ylabel(name)\n",
        "    if metric == 'loss':\n",
        "      plt.ylim([0, plt.ylim()[1]])\n",
        "    elif metric == 'auc':\n",
        "      plt.ylim([0.8,1])\n",
        "    else:\n",
        "      plt.ylim([0,1])\n",
        "\n",
        "    plt.legend()\n",
        "\n"
      ],
      "metadata": {
        "id": "B7Lc5VrBJtD6"
      },
      "execution_count": 36,
      "outputs": []
    },
    {
      "cell_type": "code",
      "source": [
        "metrics = [\"loss\", 'accuracy', 'recall', 'precision', 'auc']\n",
        "plt.figure(figsize=(12,10))\n",
        "plot_metrics(history, metrics)"
      ],
      "metadata": {
        "id": "tQ8eVOsNPPf2",
        "colab": {
          "base_uri": "https://localhost:8080/",
          "height": 855
        },
        "outputId": "3552d29d-175f-44aa-abdd-ced124a1e1c3"
      },
      "execution_count": 37,
      "outputs": [
        {
          "output_type": "display_data",
          "data": {
            "text/plain": [
              "<Figure size 1200x1000 with 5 Axes>"
            ],
            "image/png": "[encoded data removed]"
          },
          "metadata": {}
        }
      ]
    },
    {
      "cell_type": "markdown",
      "source": [
        "# Evaluation"
      ],
      "metadata": {
        "id": "7gWUxR0wPO0U"
      }
    },
    {
      "cell_type": "code",
      "execution_count": 38,
      "outputs": [
        {
          "output_type": "stream",
          "name": "stdout",
          "text": [
            "494/494 [==============================] - 51s 103ms/step - loss: 0.7242 - accuracy: 0.8641 - recall: 0.7583 - precision: 0.7992 - auc: 0.8947\n"
          ]
        },
        {
          "output_type": "execute_result",
          "data": {
            "text/plain": [
              "[0.7242254018783569,\n",
              " 0.8640850186347961,\n",
              " 0.7583014965057373,\n",
              " 0.7991516590118408,\n",
              " 0.8947398662567139]"
            ]
          },
          "metadata": {},
          "execution_count": 38
        }
      ],
      "source": [
        "model.evaluate(X_test, y_test)"
      ],
      "metadata": {
        "colab": {
          "base_uri": "https://localhost:8080/"
        },
        "id": "C8VeXfap978O",
        "outputId": "12152bff-d081-435b-cec8-f77649353d2f"
      }
    }
  ],
  "metadata": {
    "kernelspec": {
      "display_name": "Python 3",
      "language": "python",
      "name": "python3"
    },
    "language_info": {
      "codemirror_mode": {
        "name": "ipython",
        "version": 2
      },
      "file_extension": ".py",
      "mimetype": "text/x-python",
      "name": "python",
      "nbconvert_exporter": "python",
      "pygments_lexer": "ipython2",
      "version": "2.7.6"
    },
    "colab": {
      "provenance": [],
      "toc_visible": true,
      "gpuType": "T4"
    },
    "accelerator": "GPU",
    "gpuClass": "standard"
  },
  "nbformat": 4,
  "nbformat_minor": 0
}