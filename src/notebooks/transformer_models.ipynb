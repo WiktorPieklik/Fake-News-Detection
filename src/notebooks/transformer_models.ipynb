{
  "nbformat": 4,
  "nbformat_minor": 0,
  "metadata": {
    "colab": {
      "provenance": [],
      "gpuType": "T4"
    },
    "kernelspec": {
      "name": "python3",
      "display_name": "Python 3"
    },
    "language_info": {
      "name": "python"
    },
    "accelerator": "GPU"
  },
  "cells": [
    {
      "cell_type": "markdown",
      "source": [],
      "metadata": {
        "id": "mG4xH7dVGIFJ"
      }
    },
    {
      "cell_type": "code",
      "source": [
        "# !pip install transformers accelerate\n",
        "# !pip install datasets\n",
        "# !pip install wandb"
      ],
      "metadata": {
        "id": "l4jHoBMPimLY"
      },
      "execution_count": null,
      "outputs": []
    },
    {
      "cell_type": "code",
      "source": [
        "import pandas as pd\n",
        "import matplotlib.pyplot as plt\n",
        "from transformers import pipeline\n",
        "from transformers import AutoTokenizer, AutoModelForSequenceClassification\n",
        "from transformers import Trainer, TrainingArguments\n",
        "from torch.utils.data import Dataset\n",
        "from sklearn.model_selection import train_test_split\n",
        "import torch\n",
        "import torch.nn.functional as F\n",
        "import wandb\n",
        "from datasets import load_metric\n",
        "import numpy as np"
      ],
      "metadata": {
        "id": "WIT0P3A4f6Fu"
      },
      "execution_count": null,
      "outputs": []
    },
    {
      "cell_type": "code",
      "source": [
        "# from google.colab import drive\n",
        "# drive.mount('/content/drive')"
      ],
      "metadata": {
        "id": "lUToQCh4iBrN",
        "colab": {
          "base_uri": "https://localhost:8080/"
        },
        "outputId": "db2f0e7e-3e38-40c4-9477-8c3f9668e08c"
      },
      "execution_count": null,
      "outputs": [
        {
          "output_type": "stream",
          "name": "stdout",
          "text": [
            "Drive already mounted at /content/drive; to attempt to forcibly remount, call drive.mount(\"/content/drive\", force_remount=True).\n"
          ]
        }
      ]
    },
    {
      "cell_type": "markdown",
      "source": [
        "#Data loading"
      ],
      "metadata": {
        "id": "_yv1TVy7uq8Y"
      }
    },
    {
      "cell_type": "code",
      "source": [
        "df = pd.read_csv('/content/drive/MyDrive/dataset2.csv')"
      ],
      "metadata": {
        "id": "m1p6ri75ut6W"
      },
      "execution_count": null,
      "outputs": []
    },
    {
      "cell_type": "code",
      "source": [
        "df"
      ],
      "metadata": {
        "id": "rk_cOUZQ8ojj",
        "colab": {
          "base_uri": "https://localhost:8080/",
          "height": 973
        },
        "outputId": "4ec27bc9-6443-4357-a760-a5399c765e2c"
      },
      "execution_count": null,
      "outputs": [
        {
          "output_type": "execute_result",
          "data": {
            "text/plain": [
              "                        id  followers_count  verified  reactions_count  \\\n",
              "0       498254340310966273             1080     False               53   \n",
              "1       498260814487642112             1639     False                1   \n",
              "2       498261272174284801             6612     False                0   \n",
              "3       498261302733967361             1070     False                1   \n",
              "4       498261642099326976             1639     False                5   \n",
              "...                    ...              ...       ...              ...   \n",
              "105349  581329886599622656               48     False                0   \n",
              "105350  581373405527556096             1283     False                1   \n",
              "105351  581387750047383552             1772     False                0   \n",
              "105352  582053224645021696               76     False                0   \n",
              "105353  581325197661376512           134658      True              554   \n",
              "\n",
              "        retweet_count                                               text  \\\n",
              "0                 286  Michael Brown is the 17 yr old boy who was sho...   \n",
              "1                   1  @AmeenaGK @jaythenerdkid And how long before a...   \n",
              "2                   0  @d_m_elms @AmeenaGK they'll drag his entire hi...   \n",
              "3                   2  @d_m_elms @jaythenerdkid or traces back some b...   \n",
              "4                   9  @AmeenaGK @jaythenerdkid CHILD KILLED TO PROTE...   \n",
              "...               ...                                                ...   \n",
              "105349              0  @geoffjohns @grantgust Keep quiet for a minute...   \n",
              "105350              0                                     @geoffjohns 🙏😇   \n",
              "105351              0                          @geoffjohns @grantgust :(   \n",
              "105352              0  @geoffjohns Germanwings A320's crash? http://t...   \n",
              "105353            209  Thoughts and prayers to the families and frien...   \n",
              "\n",
              "                                                   source  \\\n",
              "0       <a href=\"http://twitter.com\" rel=\"nofollow\">Tw...   \n",
              "1       <a href=\"http://twitter.com/download/iphone\" r...   \n",
              "2       <a href=\"http://twitter.com/download/android\" ...   \n",
              "3       <a href=\"http://twitter.com\" rel=\"nofollow\">Tw...   \n",
              "4       <a href=\"http://twitter.com/download/iphone\" r...   \n",
              "...                                                   ...   \n",
              "105349  <a href=\"http://twitter.com/download/android\" ...   \n",
              "105350  <a href=\"http://twitter.com/download/android\" ...   \n",
              "105351  <a href=\"http://twitter.com/download/android\" ...   \n",
              "105352  <a href=\"https://mobile.twitter.com\" rel=\"nofo...   \n",
              "105353  <a href=\"http://instagram.com\" rel=\"nofollow\">...   \n",
              "\n",
              "                                              description  replies_count  \\\n",
              "0       Sr.Lecturer @IEDP_PennGSE | GlobalDev + Migrat...              0   \n",
              "1       #TeamRocketRaccoon #TeamEternia #TeamEtheria #...              0   \n",
              "2       muslim cis queer neuroatypical intersectional ...              0   \n",
              "3       Sr.Lecturer @IEDP_PennGSE | GlobalDev + Migrat...              0   \n",
              "4       #TeamRocketRaccoon #TeamEternia #TeamEtheria #...              0   \n",
              "...                                                   ...            ...   \n",
              "105349  I'm a dreamer...And my heart belongs to @CW_Ar...              0   \n",
              "105350  a student of art, comic book lettering, and gr...              0   \n",
              "105351  the saints follow me and more awesome people! ...              0   \n",
              "105352                                                NaN              0   \n",
              "105353  Chief Creative Officer of DC Entertainment الش...             28   \n",
              "\n",
              "         fake  \n",
              "0        True  \n",
              "1        True  \n",
              "2        True  \n",
              "3        True  \n",
              "4        True  \n",
              "...       ...  \n",
              "105349  False  \n",
              "105350  False  \n",
              "105351  False  \n",
              "105352  False  \n",
              "105353  False  \n",
              "\n",
              "[105354 rows x 10 columns]"
            ],
            "text/html": [
              "\n",
              "  <div id=\"df-dc070ea8-b3b9-4375-99ae-13eb40b77d2e\">\n",
              "    <div class=\"colab-df-container\">\n",
              "      <div>\n",
              "<style scoped>\n",
              "    .dataframe tbody tr th:only-of-type {\n",
              "        vertical-align: middle;\n",
              "    }\n",
              "\n",
              "    .dataframe tbody tr th {\n",
              "        vertical-align: top;\n",
              "    }\n",
              "\n",
              "    .dataframe thead th {\n",
              "        text-align: right;\n",
              "    }\n",
              "</style>\n",
              "<table border=\"1\" class=\"dataframe\">\n",
              "  <thead>\n",
              "    <tr style=\"text-align: right;\">\n",
              "      <th></th>\n",
              "      <th>id</th>\n",
              "      <th>followers_count</th>\n",
              "      <th>verified</th>\n",
              "      <th>reactions_count</th>\n",
              "      <th>retweet_count</th>\n",
              "      <th>text</th>\n",
              "      <th>source</th>\n",
              "      <th>description</th>\n",
              "      <th>replies_count</th>\n",
              "      <th>fake</th>\n",
              "    </tr>\n",
              "  </thead>\n",
              "  <tbody>\n",
              "    <tr>\n",
              "      <th>0</th>\n",
              "      <td>498254340310966273</td>\n",
              "      <td>1080</td>\n",
              "      <td>False</td>\n",
              "      <td>53</td>\n",
              "      <td>286</td>\n",
              "      <td>Michael Brown is the 17 yr old boy who was sho...</td>\n",
              "      <td>&lt;a href=\"http://twitter.com\" rel=\"nofollow\"&gt;Tw...</td>\n",
              "      <td>Sr.Lecturer @IEDP_PennGSE | GlobalDev + Migrat...</td>\n",
              "      <td>0</td>\n",
              "      <td>True</td>\n",
              "    </tr>\n",
              "    <tr>\n",
              "      <th>1</th>\n",
              "      <td>498260814487642112</td>\n",
              "      <td>1639</td>\n",
              "      <td>False</td>\n",
              "      <td>1</td>\n",
              "      <td>1</td>\n",
              "      <td>@AmeenaGK @jaythenerdkid And how long before a...</td>\n",
              "      <td>&lt;a href=\"http://twitter.com/download/iphone\" r...</td>\n",
              "      <td>#TeamRocketRaccoon #TeamEternia #TeamEtheria #...</td>\n",
              "      <td>0</td>\n",
              "      <td>True</td>\n",
              "    </tr>\n",
              "    <tr>\n",
              "      <th>2</th>\n",
              "      <td>498261272174284801</td>\n",
              "      <td>6612</td>\n",
              "      <td>False</td>\n",
              "      <td>0</td>\n",
              "      <td>0</td>\n",
              "      <td>@d_m_elms @AmeenaGK they'll drag his entire hi...</td>\n",
              "      <td>&lt;a href=\"http://twitter.com/download/android\" ...</td>\n",
              "      <td>muslim cis queer neuroatypical intersectional ...</td>\n",
              "      <td>0</td>\n",
              "      <td>True</td>\n",
              "    </tr>\n",
              "    <tr>\n",
              "      <th>3</th>\n",
              "      <td>498261302733967361</td>\n",
              "      <td>1070</td>\n",
              "      <td>False</td>\n",
              "      <td>1</td>\n",
              "      <td>2</td>\n",
              "      <td>@d_m_elms @jaythenerdkid or traces back some b...</td>\n",
              "      <td>&lt;a href=\"http://twitter.com\" rel=\"nofollow\"&gt;Tw...</td>\n",
              "      <td>Sr.Lecturer @IEDP_PennGSE | GlobalDev + Migrat...</td>\n",
              "      <td>0</td>\n",
              "      <td>True</td>\n",
              "    </tr>\n",
              "    <tr>\n",
              "      <th>4</th>\n",
              "      <td>498261642099326976</td>\n",
              "      <td>1639</td>\n",
              "      <td>False</td>\n",
              "      <td>5</td>\n",
              "      <td>9</td>\n",
              "      <td>@AmeenaGK @jaythenerdkid CHILD KILLED TO PROTE...</td>\n",
              "      <td>&lt;a href=\"http://twitter.com/download/iphone\" r...</td>\n",
              "      <td>#TeamRocketRaccoon #TeamEternia #TeamEtheria #...</td>\n",
              "      <td>0</td>\n",
              "      <td>True</td>\n",
              "    </tr>\n",
              "    <tr>\n",
              "      <th>...</th>\n",
              "      <td>...</td>\n",
              "      <td>...</td>\n",
              "      <td>...</td>\n",
              "      <td>...</td>\n",
              "      <td>...</td>\n",
              "      <td>...</td>\n",
              "      <td>...</td>\n",
              "      <td>...</td>\n",
              "      <td>...</td>\n",
              "      <td>...</td>\n",
              "    </tr>\n",
              "    <tr>\n",
              "      <th>105349</th>\n",
              "      <td>581329886599622656</td>\n",
              "      <td>48</td>\n",
              "      <td>False</td>\n",
              "      <td>0</td>\n",
              "      <td>0</td>\n",
              "      <td>@geoffjohns @grantgust Keep quiet for a minute...</td>\n",
              "      <td>&lt;a href=\"http://twitter.com/download/android\" ...</td>\n",
              "      <td>I'm a dreamer...And my heart belongs to @CW_Ar...</td>\n",
              "      <td>0</td>\n",
              "      <td>False</td>\n",
              "    </tr>\n",
              "    <tr>\n",
              "      <th>105350</th>\n",
              "      <td>581373405527556096</td>\n",
              "      <td>1283</td>\n",
              "      <td>False</td>\n",
              "      <td>1</td>\n",
              "      <td>0</td>\n",
              "      <td>@geoffjohns 🙏😇</td>\n",
              "      <td>&lt;a href=\"http://twitter.com/download/android\" ...</td>\n",
              "      <td>a student of art, comic book lettering, and gr...</td>\n",
              "      <td>0</td>\n",
              "      <td>False</td>\n",
              "    </tr>\n",
              "    <tr>\n",
              "      <th>105351</th>\n",
              "      <td>581387750047383552</td>\n",
              "      <td>1772</td>\n",
              "      <td>False</td>\n",
              "      <td>0</td>\n",
              "      <td>0</td>\n",
              "      <td>@geoffjohns @grantgust :(</td>\n",
              "      <td>&lt;a href=\"http://twitter.com/download/android\" ...</td>\n",
              "      <td>the saints follow me and more awesome people! ...</td>\n",
              "      <td>0</td>\n",
              "      <td>False</td>\n",
              "    </tr>\n",
              "    <tr>\n",
              "      <th>105352</th>\n",
              "      <td>582053224645021696</td>\n",
              "      <td>76</td>\n",
              "      <td>False</td>\n",
              "      <td>0</td>\n",
              "      <td>0</td>\n",
              "      <td>@geoffjohns Germanwings A320's crash? http://t...</td>\n",
              "      <td>&lt;a href=\"https://mobile.twitter.com\" rel=\"nofo...</td>\n",
              "      <td>NaN</td>\n",
              "      <td>0</td>\n",
              "      <td>False</td>\n",
              "    </tr>\n",
              "    <tr>\n",
              "      <th>105353</th>\n",
              "      <td>581325197661376512</td>\n",
              "      <td>134658</td>\n",
              "      <td>True</td>\n",
              "      <td>554</td>\n",
              "      <td>209</td>\n",
              "      <td>Thoughts and prayers to the families and frien...</td>\n",
              "      <td>&lt;a href=\"http://instagram.com\" rel=\"nofollow\"&gt;...</td>\n",
              "      <td>Chief Creative Officer of DC Entertainment الش...</td>\n",
              "      <td>28</td>\n",
              "      <td>False</td>\n",
              "    </tr>\n",
              "  </tbody>\n",
              "</table>\n",
              "<p>105354 rows × 10 columns</p>\n",
              "</div>\n",
              "      <button class=\"colab-df-convert\" onclick=\"convertToInteractive('df-dc070ea8-b3b9-4375-99ae-13eb40b77d2e')\"\n",
              "              title=\"Convert this dataframe to an interactive table.\"\n",
              "              style=\"display:none;\">\n",
              "        \n",
              "  <svg xmlns=\"http://www.w3.org/2000/svg\" height=\"24px\"viewBox=\"0 0 24 24\"\n",
              "       width=\"24px\">\n",
              "    <path d=\"M0 0h24v24H0V0z\" fill=\"none\"/>\n",
              "    <path d=\"M18.56 5.44l.94 2.06.94-2.06 2.06-.94-2.06-.94-.94-2.06-.94 2.06-2.06.94zm-11 1L8.5 8.5l.94-2.06 2.06-.94-2.06-.94L8.5 2.5l-.94 2.06-2.06.94zm10 10l.94 2.06.94-2.06 2.06-.94-2.06-.94-.94-2.06-.94 2.06-2.06.94z\"/><path d=\"M17.41 7.96l-1.37-1.37c-.4-.4-.92-.59-1.43-.59-.52 0-1.04.2-1.43.59L10.3 9.45l-7.72 7.72c-.78.78-.78 2.05 0 2.83L4 21.41c.39.39.9.59 1.41.59.51 0 1.02-.2 1.41-.59l7.78-7.78 2.81-2.81c.8-.78.8-2.07 0-2.86zM5.41 20L4 18.59l7.72-7.72 1.47 1.35L5.41 20z\"/>\n",
              "  </svg>\n",
              "      </button>\n",
              "      \n",
              "  <style>\n",
              "    .colab-df-container {\n",
              "      display:flex;\n",
              "      flex-wrap:wrap;\n",
              "      gap: 12px;\n",
              "    }\n",
              "\n",
              "    .colab-df-convert {\n",
              "      background-color: #E8F0FE;\n",
              "      border: none;\n",
              "      border-radius: 50%;\n",
              "      cursor: pointer;\n",
              "      display: none;\n",
              "      fill: #1967D2;\n",
              "      height: 32px;\n",
              "      padding: 0 0 0 0;\n",
              "      width: 32px;\n",
              "    }\n",
              "\n",
              "    .colab-df-convert:hover {\n",
              "      background-color: #E2EBFA;\n",
              "      box-shadow: 0px 1px 2px rgba(60, 64, 67, 0.3), 0px 1px 3px 1px rgba(60, 64, 67, 0.15);\n",
              "      fill: #174EA6;\n",
              "    }\n",
              "\n",
              "    [theme=dark] .colab-df-convert {\n",
              "      background-color: #3B4455;\n",
              "      fill: #D2E3FC;\n",
              "    }\n",
              "\n",
              "    [theme=dark] .colab-df-convert:hover {\n",
              "      background-color: #434B5C;\n",
              "      box-shadow: 0px 1px 3px 1px rgba(0, 0, 0, 0.15);\n",
              "      filter: drop-shadow(0px 1px 2px rgba(0, 0, 0, 0.3));\n",
              "      fill: #FFFFFF;\n",
              "    }\n",
              "  </style>\n",
              "\n",
              "      <script>\n",
              "        const buttonEl =\n",
              "          document.querySelector('#df-dc070ea8-b3b9-4375-99ae-13eb40b77d2e button.colab-df-convert');\n",
              "        buttonEl.style.display =\n",
              "          google.colab.kernel.accessAllowed ? 'block' : 'none';\n",
              "\n",
              "        async function convertToInteractive(key) {\n",
              "          const element = document.querySelector('#df-dc070ea8-b3b9-4375-99ae-13eb40b77d2e');\n",
              "          const dataTable =\n",
              "            await google.colab.kernel.invokeFunction('convertToInteractive',\n",
              "                                                     [key], {});\n",
              "          if (!dataTable) return;\n",
              "\n",
              "          const docLinkHtml = 'Like what you see? Visit the ' +\n",
              "            '<a target=\"_blank\" href=https://colab.research.google.com/notebooks/data_table.ipynb>data table notebook</a>'\n",
              "            + ' to learn more about interactive tables.';\n",
              "          element.innerHTML = '';\n",
              "          dataTable['output_type'] = 'display_data';\n",
              "          await google.colab.output.renderOutput(dataTable, element);\n",
              "          const docLink = document.createElement('div');\n",
              "          docLink.innerHTML = docLinkHtml;\n",
              "          element.appendChild(docLink);\n",
              "        }\n",
              "      </script>\n",
              "    </div>\n",
              "  </div>\n",
              "  "
            ]
          },
          "metadata": {},
          "execution_count": 5
        }
      ]
    },
    {
      "cell_type": "code",
      "source": [
        "df['class'] = np.where(df['fake']==True, 1, 0)"
      ],
      "metadata": {
        "id": "vWxQP0pi8-dO"
      },
      "execution_count": null,
      "outputs": []
    },
    {
      "cell_type": "markdown",
      "source": [
        "W/o metadata"
      ],
      "metadata": {
        "id": "YvoWLmFnY5uh"
      }
    },
    {
      "cell_type": "code",
      "source": [
        "df[\"text_and_desc\"] = df[\"text\"] + df[\"description\"]"
      ],
      "metadata": {
        "id": "yffnJh1mY5BU"
      },
      "execution_count": null,
      "outputs": []
    },
    {
      "cell_type": "markdown",
      "source": [
        "With metadata"
      ],
      "metadata": {
        "id": "eYCLz8jT5GsW"
      }
    },
    {
      "cell_type": "code",
      "source": [
        "df[\"verified\"] = df[\"verified\"].astype(float)\n",
        "df[\"followers_count\"] = df[\"followers_count\"].astype(float)\n",
        "df[\"reactions_count\"] = df[\"reactions_count\"].astype(float)\n",
        "df[\"retweet_count\"] = df[\"retweet_count\"].astype(float)\n",
        "df[\"replies_count\"] = df[\"replies_count\"].astype(float)"
      ],
      "metadata": {
        "id": "Q63YCb3j4MP8"
      },
      "execution_count": null,
      "outputs": []
    },
    {
      "cell_type": "code",
      "source": [
        "df[\"verified\"] = df[\"verified\"].astype(str)\n",
        "df[\"followers_count\"] = df[\"followers_count\"].astype(str)\n",
        "df[\"reactions_count\"] = df[\"reactions_count\"].astype(str)\n",
        "df[\"retweet_count\"] = df[\"retweet_count\"].astype(str)\n",
        "df[\"replies_count\"] = df[\"replies_count\"].astype(str)"
      ],
      "metadata": {
        "id": "NTK5KaQE5EFT"
      },
      "execution_count": null,
      "outputs": []
    },
    {
      "cell_type": "code",
      "source": [
        "df[\"text_and_desc\"] = df[\"text\"] + df[\"description\"] + df['followers_count'] + df[\"verified\"] + df[\"reactions_count\"] + df[\"retweet_count\"] + df[\"replies_count\"]\n",
        "df.head()"
      ],
      "metadata": {
        "id": "oT92RTqY-Wlj",
        "colab": {
          "base_uri": "https://localhost:8080/",
          "height": 530
        },
        "outputId": "323f7f75-4513-473a-c0bf-2f2255c33c20"
      },
      "execution_count": null,
      "outputs": [
        {
          "output_type": "execute_result",
          "data": {
            "text/plain": [
              "                   id followers_count verified reactions_count retweet_count  \\\n",
              "0  498254340310966273          1080.0      0.0            53.0         286.0   \n",
              "1  498260814487642112          1639.0      0.0             1.0           1.0   \n",
              "2  498261272174284801          6612.0      0.0             0.0           0.0   \n",
              "3  498261302733967361          1070.0      0.0             1.0           2.0   \n",
              "4  498261642099326976          1639.0      0.0             5.0           9.0   \n",
              "\n",
              "                                                text  \\\n",
              "0  Michael Brown is the 17 yr old boy who was sho...   \n",
              "1  @AmeenaGK @jaythenerdkid And how long before a...   \n",
              "2  @d_m_elms @AmeenaGK they'll drag his entire hi...   \n",
              "3  @d_m_elms @jaythenerdkid or traces back some b...   \n",
              "4  @AmeenaGK @jaythenerdkid CHILD KILLED TO PROTE...   \n",
              "\n",
              "                                              source  \\\n",
              "0  <a href=\"http://twitter.com\" rel=\"nofollow\">Tw...   \n",
              "1  <a href=\"http://twitter.com/download/iphone\" r...   \n",
              "2  <a href=\"http://twitter.com/download/android\" ...   \n",
              "3  <a href=\"http://twitter.com\" rel=\"nofollow\">Tw...   \n",
              "4  <a href=\"http://twitter.com/download/iphone\" r...   \n",
              "\n",
              "                                         description replies_count  fake  \\\n",
              "0  Sr.Lecturer @IEDP_PennGSE | GlobalDev + Migrat...           0.0  True   \n",
              "1  #TeamRocketRaccoon #TeamEternia #TeamEtheria #...           0.0  True   \n",
              "2  muslim cis queer neuroatypical intersectional ...           0.0  True   \n",
              "3  Sr.Lecturer @IEDP_PennGSE | GlobalDev + Migrat...           0.0  True   \n",
              "4  #TeamRocketRaccoon #TeamEternia #TeamEtheria #...           0.0  True   \n",
              "\n",
              "   class                                      text_and_desc  \n",
              "0      1  Michael Brown is the 17 yr old boy who was sho...  \n",
              "1      1  @AmeenaGK @jaythenerdkid And how long before a...  \n",
              "2      1  @d_m_elms @AmeenaGK they'll drag his entire hi...  \n",
              "3      1  @d_m_elms @jaythenerdkid or traces back some b...  \n",
              "4      1  @AmeenaGK @jaythenerdkid CHILD KILLED TO PROTE...  "
            ],
            "text/html": [
              "\n",
              "  <div id=\"df-a78a8eb9-a0cd-4d2c-af68-de9f9f64bc31\">\n",
              "    <div class=\"colab-df-container\">\n",
              "      <div>\n",
              "<style scoped>\n",
              "    .dataframe tbody tr th:only-of-type {\n",
              "        vertical-align: middle;\n",
              "    }\n",
              "\n",
              "    .dataframe tbody tr th {\n",
              "        vertical-align: top;\n",
              "    }\n",
              "\n",
              "    .dataframe thead th {\n",
              "        text-align: right;\n",
              "    }\n",
              "</style>\n",
              "<table border=\"1\" class=\"dataframe\">\n",
              "  <thead>\n",
              "    <tr style=\"text-align: right;\">\n",
              "      <th></th>\n",
              "      <th>id</th>\n",
              "      <th>followers_count</th>\n",
              "      <th>verified</th>\n",
              "      <th>reactions_count</th>\n",
              "      <th>retweet_count</th>\n",
              "      <th>text</th>\n",
              "      <th>source</th>\n",
              "      <th>description</th>\n",
              "      <th>replies_count</th>\n",
              "      <th>fake</th>\n",
              "      <th>class</th>\n",
              "      <th>text_and_desc</th>\n",
              "    </tr>\n",
              "  </thead>\n",
              "  <tbody>\n",
              "    <tr>\n",
              "      <th>0</th>\n",
              "      <td>498254340310966273</td>\n",
              "      <td>1080.0</td>\n",
              "      <td>0.0</td>\n",
              "      <td>53.0</td>\n",
              "      <td>286.0</td>\n",
              "      <td>Michael Brown is the 17 yr old boy who was sho...</td>\n",
              "      <td>&lt;a href=\"http://twitter.com\" rel=\"nofollow\"&gt;Tw...</td>\n",
              "      <td>Sr.Lecturer @IEDP_PennGSE | GlobalDev + Migrat...</td>\n",
              "      <td>0.0</td>\n",
              "      <td>True</td>\n",
              "      <td>1</td>\n",
              "      <td>Michael Brown is the 17 yr old boy who was sho...</td>\n",
              "    </tr>\n",
              "    <tr>\n",
              "      <th>1</th>\n",
              "      <td>498260814487642112</td>\n",
              "      <td>1639.0</td>\n",
              "      <td>0.0</td>\n",
              "      <td>1.0</td>\n",
              "      <td>1.0</td>\n",
              "      <td>@AmeenaGK @jaythenerdkid And how long before a...</td>\n",
              "      <td>&lt;a href=\"http://twitter.com/download/iphone\" r...</td>\n",
              "      <td>#TeamRocketRaccoon #TeamEternia #TeamEtheria #...</td>\n",
              "      <td>0.0</td>\n",
              "      <td>True</td>\n",
              "      <td>1</td>\n",
              "      <td>@AmeenaGK @jaythenerdkid And how long before a...</td>\n",
              "    </tr>\n",
              "    <tr>\n",
              "      <th>2</th>\n",
              "      <td>498261272174284801</td>\n",
              "      <td>6612.0</td>\n",
              "      <td>0.0</td>\n",
              "      <td>0.0</td>\n",
              "      <td>0.0</td>\n",
              "      <td>@d_m_elms @AmeenaGK they'll drag his entire hi...</td>\n",
              "      <td>&lt;a href=\"http://twitter.com/download/android\" ...</td>\n",
              "      <td>muslim cis queer neuroatypical intersectional ...</td>\n",
              "      <td>0.0</td>\n",
              "      <td>True</td>\n",
              "      <td>1</td>\n",
              "      <td>@d_m_elms @AmeenaGK they'll drag his entire hi...</td>\n",
              "    </tr>\n",
              "    <tr>\n",
              "      <th>3</th>\n",
              "      <td>498261302733967361</td>\n",
              "      <td>1070.0</td>\n",
              "      <td>0.0</td>\n",
              "      <td>1.0</td>\n",
              "      <td>2.0</td>\n",
              "      <td>@d_m_elms @jaythenerdkid or traces back some b...</td>\n",
              "      <td>&lt;a href=\"http://twitter.com\" rel=\"nofollow\"&gt;Tw...</td>\n",
              "      <td>Sr.Lecturer @IEDP_PennGSE | GlobalDev + Migrat...</td>\n",
              "      <td>0.0</td>\n",
              "      <td>True</td>\n",
              "      <td>1</td>\n",
              "      <td>@d_m_elms @jaythenerdkid or traces back some b...</td>\n",
              "    </tr>\n",
              "    <tr>\n",
              "      <th>4</th>\n",
              "      <td>498261642099326976</td>\n",
              "      <td>1639.0</td>\n",
              "      <td>0.0</td>\n",
              "      <td>5.0</td>\n",
              "      <td>9.0</td>\n",
              "      <td>@AmeenaGK @jaythenerdkid CHILD KILLED TO PROTE...</td>\n",
              "      <td>&lt;a href=\"http://twitter.com/download/iphone\" r...</td>\n",
              "      <td>#TeamRocketRaccoon #TeamEternia #TeamEtheria #...</td>\n",
              "      <td>0.0</td>\n",
              "      <td>True</td>\n",
              "      <td>1</td>\n",
              "      <td>@AmeenaGK @jaythenerdkid CHILD KILLED TO PROTE...</td>\n",
              "    </tr>\n",
              "  </tbody>\n",
              "</table>\n",
              "</div>\n",
              "      <button class=\"colab-df-convert\" onclick=\"convertToInteractive('df-a78a8eb9-a0cd-4d2c-af68-de9f9f64bc31')\"\n",
              "              title=\"Convert this dataframe to an interactive table.\"\n",
              "              style=\"display:none;\">\n",
              "        \n",
              "  <svg xmlns=\"http://www.w3.org/2000/svg\" height=\"24px\"viewBox=\"0 0 24 24\"\n",
              "       width=\"24px\">\n",
              "    <path d=\"M0 0h24v24H0V0z\" fill=\"none\"/>\n",
              "    <path d=\"M18.56 5.44l.94 2.06.94-2.06 2.06-.94-2.06-.94-.94-2.06-.94 2.06-2.06.94zm-11 1L8.5 8.5l.94-2.06 2.06-.94-2.06-.94L8.5 2.5l-.94 2.06-2.06.94zm10 10l.94 2.06.94-2.06 2.06-.94-2.06-.94-.94-2.06-.94 2.06-2.06.94z\"/><path d=\"M17.41 7.96l-1.37-1.37c-.4-.4-.92-.59-1.43-.59-.52 0-1.04.2-1.43.59L10.3 9.45l-7.72 7.72c-.78.78-.78 2.05 0 2.83L4 21.41c.39.39.9.59 1.41.59.51 0 1.02-.2 1.41-.59l7.78-7.78 2.81-2.81c.8-.78.8-2.07 0-2.86zM5.41 20L4 18.59l7.72-7.72 1.47 1.35L5.41 20z\"/>\n",
              "  </svg>\n",
              "      </button>\n",
              "      \n",
              "  <style>\n",
              "    .colab-df-container {\n",
              "      display:flex;\n",
              "      flex-wrap:wrap;\n",
              "      gap: 12px;\n",
              "    }\n",
              "\n",
              "    .colab-df-convert {\n",
              "      background-color: #E8F0FE;\n",
              "      border: none;\n",
              "      border-radius: 50%;\n",
              "      cursor: pointer;\n",
              "      display: none;\n",
              "      fill: #1967D2;\n",
              "      height: 32px;\n",
              "      padding: 0 0 0 0;\n",
              "      width: 32px;\n",
              "    }\n",
              "\n",
              "    .colab-df-convert:hover {\n",
              "      background-color: #E2EBFA;\n",
              "      box-shadow: 0px 1px 2px rgba(60, 64, 67, 0.3), 0px 1px 3px 1px rgba(60, 64, 67, 0.15);\n",
              "      fill: #174EA6;\n",
              "    }\n",
              "\n",
              "    [theme=dark] .colab-df-convert {\n",
              "      background-color: #3B4455;\n",
              "      fill: #D2E3FC;\n",
              "    }\n",
              "\n",
              "    [theme=dark] .colab-df-convert:hover {\n",
              "      background-color: #434B5C;\n",
              "      box-shadow: 0px 1px 3px 1px rgba(0, 0, 0, 0.15);\n",
              "      filter: drop-shadow(0px 1px 2px rgba(0, 0, 0, 0.3));\n",
              "      fill: #FFFFFF;\n",
              "    }\n",
              "  </style>\n",
              "\n",
              "      <script>\n",
              "        const buttonEl =\n",
              "          document.querySelector('#df-a78a8eb9-a0cd-4d2c-af68-de9f9f64bc31 button.colab-df-convert');\n",
              "        buttonEl.style.display =\n",
              "          google.colab.kernel.accessAllowed ? 'block' : 'none';\n",
              "\n",
              "        async function convertToInteractive(key) {\n",
              "          const element = document.querySelector('#df-a78a8eb9-a0cd-4d2c-af68-de9f9f64bc31');\n",
              "          const dataTable =\n",
              "            await google.colab.kernel.invokeFunction('convertToInteractive',\n",
              "                                                     [key], {});\n",
              "          if (!dataTable) return;\n",
              "\n",
              "          const docLinkHtml = 'Like what you see? Visit the ' +\n",
              "            '<a target=\"_blank\" href=https://colab.research.google.com/notebooks/data_table.ipynb>data table notebook</a>'\n",
              "            + ' to learn more about interactive tables.';\n",
              "          element.innerHTML = '';\n",
              "          dataTable['output_type'] = 'display_data';\n",
              "          await google.colab.output.renderOutput(dataTable, element);\n",
              "          const docLink = document.createElement('div');\n",
              "          docLink.innerHTML = docLinkHtml;\n",
              "          element.appendChild(docLink);\n",
              "        }\n",
              "      </script>\n",
              "    </div>\n",
              "  </div>\n",
              "  "
            ]
          },
          "metadata": {},
          "execution_count": 9
        }
      ]
    },
    {
      "cell_type": "code",
      "source": [
        "news_df = df[['text_and_desc', 'class']]"
      ],
      "metadata": {
        "id": "R9nrrcIY-qui"
      },
      "execution_count": null,
      "outputs": []
    },
    {
      "cell_type": "code",
      "source": [
        "news_df.fillna('',inplace=True)"
      ],
      "metadata": {
        "id": "Irijtams_EjS",
        "colab": {
          "base_uri": "https://localhost:8080/"
        },
        "outputId": "edb69b7d-25d4-4953-b2f1-765ac5c43bde"
      },
      "execution_count": null,
      "outputs": [
        {
          "output_type": "stream",
          "name": "stderr",
          "text": [
            "<ipython-input-12-4f5679fe4a1b>:1: SettingWithCopyWarning: \n",
            "A value is trying to be set on a copy of a slice from a DataFrame\n",
            "\n",
            "See the caveats in the documentation: https://pandas.pydata.org/pandas-docs/stable/user_guide/indexing.html#returning-a-view-versus-a-copy\n",
            "  news_df.fillna('',inplace=True)\n"
          ]
        }
      ]
    },
    {
      "cell_type": "code",
      "source": [
        "news_df"
      ],
      "metadata": {
        "id": "lwQ2-m6yfsn2",
        "colab": {
          "base_uri": "https://localhost:8080/",
          "height": 423
        },
        "outputId": "33fc5c3e-d120-4bd2-82a1-1c0c8ade54b0"
      },
      "execution_count": null,
      "outputs": [
        {
          "output_type": "execute_result",
          "data": {
            "text/plain": [
              "                                            text_and_desc  class\n",
              "0       Michael Brown is the 17 yr old boy who was sho...      1\n",
              "1       @AmeenaGK @jaythenerdkid And how long before a...      1\n",
              "2       @d_m_elms @AmeenaGK they'll drag his entire hi...      1\n",
              "3       @d_m_elms @jaythenerdkid or traces back some b...      1\n",
              "4       @AmeenaGK @jaythenerdkid CHILD KILLED TO PROTE...      1\n",
              "...                                                   ...    ...\n",
              "105349  @geoffjohns @grantgust Keep quiet for a minute...      0\n",
              "105350  @geoffjohns 🙏😇a student of art, comic book let...      0\n",
              "105351  @geoffjohns @grantgust :(the saints follow me ...      0\n",
              "105352                                                         0\n",
              "105353  Thoughts and prayers to the families and frien...      0\n",
              "\n",
              "[105354 rows x 2 columns]"
            ],
            "text/html": [
              "\n",
              "  <div id=\"df-6cf7fe46-1961-4f35-8c70-d5da89b44885\">\n",
              "    <div class=\"colab-df-container\">\n",
              "      <div>\n",
              "<style scoped>\n",
              "    .dataframe tbody tr th:only-of-type {\n",
              "        vertical-align: middle;\n",
              "    }\n",
              "\n",
              "    .dataframe tbody tr th {\n",
              "        vertical-align: top;\n",
              "    }\n",
              "\n",
              "    .dataframe thead th {\n",
              "        text-align: right;\n",
              "    }\n",
              "</style>\n",
              "<table border=\"1\" class=\"dataframe\">\n",
              "  <thead>\n",
              "    <tr style=\"text-align: right;\">\n",
              "      <th></th>\n",
              "      <th>text_and_desc</th>\n",
              "      <th>class</th>\n",
              "    </tr>\n",
              "  </thead>\n",
              "  <tbody>\n",
              "    <tr>\n",
              "      <th>0</th>\n",
              "      <td>Michael Brown is the 17 yr old boy who was sho...</td>\n",
              "      <td>1</td>\n",
              "    </tr>\n",
              "    <tr>\n",
              "      <th>1</th>\n",
              "      <td>@AmeenaGK @jaythenerdkid And how long before a...</td>\n",
              "      <td>1</td>\n",
              "    </tr>\n",
              "    <tr>\n",
              "      <th>2</th>\n",
              "      <td>@d_m_elms @AmeenaGK they'll drag his entire hi...</td>\n",
              "      <td>1</td>\n",
              "    </tr>\n",
              "    <tr>\n",
              "      <th>3</th>\n",
              "      <td>@d_m_elms @jaythenerdkid or traces back some b...</td>\n",
              "      <td>1</td>\n",
              "    </tr>\n",
              "    <tr>\n",
              "      <th>4</th>\n",
              "      <td>@AmeenaGK @jaythenerdkid CHILD KILLED TO PROTE...</td>\n",
              "      <td>1</td>\n",
              "    </tr>\n",
              "    <tr>\n",
              "      <th>...</th>\n",
              "      <td>...</td>\n",
              "      <td>...</td>\n",
              "    </tr>\n",
              "    <tr>\n",
              "      <th>105349</th>\n",
              "      <td>@geoffjohns @grantgust Keep quiet for a minute...</td>\n",
              "      <td>0</td>\n",
              "    </tr>\n",
              "    <tr>\n",
              "      <th>105350</th>\n",
              "      <td>@geoffjohns 🙏😇a student of art, comic book let...</td>\n",
              "      <td>0</td>\n",
              "    </tr>\n",
              "    <tr>\n",
              "      <th>105351</th>\n",
              "      <td>@geoffjohns @grantgust :(the saints follow me ...</td>\n",
              "      <td>0</td>\n",
              "    </tr>\n",
              "    <tr>\n",
              "      <th>105352</th>\n",
              "      <td></td>\n",
              "      <td>0</td>\n",
              "    </tr>\n",
              "    <tr>\n",
              "      <th>105353</th>\n",
              "      <td>Thoughts and prayers to the families and frien...</td>\n",
              "      <td>0</td>\n",
              "    </tr>\n",
              "  </tbody>\n",
              "</table>\n",
              "<p>105354 rows × 2 columns</p>\n",
              "</div>\n",
              "      <button class=\"colab-df-convert\" onclick=\"convertToInteractive('df-6cf7fe46-1961-4f35-8c70-d5da89b44885')\"\n",
              "              title=\"Convert this dataframe to an interactive table.\"\n",
              "              style=\"display:none;\">\n",
              "        \n",
              "  <svg xmlns=\"http://www.w3.org/2000/svg\" height=\"24px\"viewBox=\"0 0 24 24\"\n",
              "       width=\"24px\">\n",
              "    <path d=\"M0 0h24v24H0V0z\" fill=\"none\"/>\n",
              "    <path d=\"M18.56 5.44l.94 2.06.94-2.06 2.06-.94-2.06-.94-.94-2.06-.94 2.06-2.06.94zm-11 1L8.5 8.5l.94-2.06 2.06-.94-2.06-.94L8.5 2.5l-.94 2.06-2.06.94zm10 10l.94 2.06.94-2.06 2.06-.94-2.06-.94-.94-2.06-.94 2.06-2.06.94z\"/><path d=\"M17.41 7.96l-1.37-1.37c-.4-.4-.92-.59-1.43-.59-.52 0-1.04.2-1.43.59L10.3 9.45l-7.72 7.72c-.78.78-.78 2.05 0 2.83L4 21.41c.39.39.9.59 1.41.59.51 0 1.02-.2 1.41-.59l7.78-7.78 2.81-2.81c.8-.78.8-2.07 0-2.86zM5.41 20L4 18.59l7.72-7.72 1.47 1.35L5.41 20z\"/>\n",
              "  </svg>\n",
              "      </button>\n",
              "      \n",
              "  <style>\n",
              "    .colab-df-container {\n",
              "      display:flex;\n",
              "      flex-wrap:wrap;\n",
              "      gap: 12px;\n",
              "    }\n",
              "\n",
              "    .colab-df-convert {\n",
              "      background-color: #E8F0FE;\n",
              "      border: none;\n",
              "      border-radius: 50%;\n",
              "      cursor: pointer;\n",
              "      display: none;\n",
              "      fill: #1967D2;\n",
              "      height: 32px;\n",
              "      padding: 0 0 0 0;\n",
              "      width: 32px;\n",
              "    }\n",
              "\n",
              "    .colab-df-convert:hover {\n",
              "      background-color: #E2EBFA;\n",
              "      box-shadow: 0px 1px 2px rgba(60, 64, 67, 0.3), 0px 1px 3px 1px rgba(60, 64, 67, 0.15);\n",
              "      fill: #174EA6;\n",
              "    }\n",
              "\n",
              "    [theme=dark] .colab-df-convert {\n",
              "      background-color: #3B4455;\n",
              "      fill: #D2E3FC;\n",
              "    }\n",
              "\n",
              "    [theme=dark] .colab-df-convert:hover {\n",
              "      background-color: #434B5C;\n",
              "      box-shadow: 0px 1px 3px 1px rgba(0, 0, 0, 0.15);\n",
              "      filter: drop-shadow(0px 1px 2px rgba(0, 0, 0, 0.3));\n",
              "      fill: #FFFFFF;\n",
              "    }\n",
              "  </style>\n",
              "\n",
              "      <script>\n",
              "        const buttonEl =\n",
              "          document.querySelector('#df-6cf7fe46-1961-4f35-8c70-d5da89b44885 button.colab-df-convert');\n",
              "        buttonEl.style.display =\n",
              "          google.colab.kernel.accessAllowed ? 'block' : 'none';\n",
              "\n",
              "        async function convertToInteractive(key) {\n",
              "          const element = document.querySelector('#df-6cf7fe46-1961-4f35-8c70-d5da89b44885');\n",
              "          const dataTable =\n",
              "            await google.colab.kernel.invokeFunction('convertToInteractive',\n",
              "                                                     [key], {});\n",
              "          if (!dataTable) return;\n",
              "\n",
              "          const docLinkHtml = 'Like what you see? Visit the ' +\n",
              "            '<a target=\"_blank\" href=https://colab.research.google.com/notebooks/data_table.ipynb>data table notebook</a>'\n",
              "            + ' to learn more about interactive tables.';\n",
              "          element.innerHTML = '';\n",
              "          dataTable['output_type'] = 'display_data';\n",
              "          await google.colab.output.renderOutput(dataTable, element);\n",
              "          const docLink = document.createElement('div');\n",
              "          docLink.innerHTML = docLinkHtml;\n",
              "          element.appendChild(docLink);\n",
              "        }\n",
              "      </script>\n",
              "    </div>\n",
              "  </div>\n",
              "  "
            ]
          },
          "metadata": {},
          "execution_count": 13
        }
      ]
    },
    {
      "cell_type": "markdown",
      "source": [
        "#TRAIN"
      ],
      "metadata": {
        "id": "JLMkRYUz-zjy"
      }
    },
    {
      "cell_type": "code",
      "source": [
        "seed = 42\n",
        "\n",
        "features = news_df['text_and_desc'].tolist()\n",
        "targets = news_df['class'].tolist()\n",
        "\n",
        "X_train, X_test, y_train, y_test = train_test_split(features, targets, test_size=0.20, random_state=seed)\n",
        "X_test, X_val, y_test, y_val = train_test_split(X_test, y_test, test_size=0.50, random_state=seed)"
      ],
      "metadata": {
        "id": "p-ih3B17u-AG"
      },
      "execution_count": null,
      "outputs": []
    },
    {
      "cell_type": "code",
      "source": [
        "X_test"
      ],
      "metadata": {
        "id": "vbYtTOT6g6o3"
      },
      "execution_count": null,
      "outputs": []
    },
    {
      "cell_type": "code",
      "source": [
        "class NewsDataset(Dataset):\n",
        "\n",
        "    def __init__(self, encodings, labels):\n",
        "        self.encodings = encodings\n",
        "        self.labels = labels\n",
        "\n",
        "    # convert to pytorch tensors\n",
        "    def __getitem__(self, idx):\n",
        "        item = {key: torch.tensor(val[idx]) for key, val in self.encodings.items()}\n",
        "        item['labels'] = torch.tensor(self.labels[idx])\n",
        "        return item\n",
        "\n",
        "    def __len__(self):\n",
        "        return len(self.labels)"
      ],
      "metadata": {
        "id": "2LQ485Atf4OV"
      },
      "execution_count": null,
      "outputs": []
    },
    {
      "cell_type": "markdown",
      "source": [
        "# DistilBERT/BERT"
      ],
      "metadata": {
        "id": "kxLs5-ThfrFc"
      }
    },
    {
      "cell_type": "code",
      "execution_count": null,
      "metadata": {
        "colab": {
          "base_uri": "https://localhost:8080/"
        },
        "id": "-H5XG57cdnjg",
        "outputId": "d68c9f57-3816-4f71-9197-d4a8bb93e1f9"
      },
      "outputs": [
        {
          "output_type": "stream",
          "name": "stderr",
          "text": [
            "Some weights of the model checkpoint at bert-base-uncased were not used when initializing BertForSequenceClassification: ['cls.predictions.transform.LayerNorm.weight', 'cls.predictions.transform.dense.weight', 'cls.predictions.bias', 'cls.predictions.transform.LayerNorm.bias', 'cls.predictions.transform.dense.bias', 'cls.seq_relationship.weight', 'cls.seq_relationship.bias']\n",
            "- This IS expected if you are initializing BertForSequenceClassification from the checkpoint of a model trained on another task or with another architecture (e.g. initializing a BertForSequenceClassification model from a BertForPreTraining model).\n",
            "- This IS NOT expected if you are initializing BertForSequenceClassification from the checkpoint of a model that you expect to be exactly identical (initializing a BertForSequenceClassification model from a BertForSequenceClassification model).\n",
            "Some weights of BertForSequenceClassification were not initialized from the model checkpoint at bert-base-uncased and are newly initialized: ['classifier.weight', 'classifier.bias']\n",
            "You should probably TRAIN this model on a down-stream task to be able to use it for predictions and inference.\n"
          ]
        }
      ],
      "source": [
        "import torch\n",
        "from transformers import AutoTokenizer, AutoModelForSequenceClassification\n",
        "\n",
        "# model_name = \"distilbert-base-uncased\"\n",
        "# model = AutoModelForSequenceClassification.from_pretrained(model_name, num_labels=2)\n",
        "# tokenizer = AutoTokenizer.from_pretrained(model_name)\n",
        "\n",
        "\n",
        "# import torch\n",
        "# from transformers import AutoTokenizer, AutoModelForSequenceClassification\n",
        "\n",
        "model_name = \"bert-base-uncased\"\n",
        "model = AutoModelForSequenceClassification.from_pretrained(model_name, num_labels=2)\n",
        "tokenizer = AutoTokenizer.from_pretrained(model_name)"
      ]
    },
    {
      "cell_type": "code",
      "source": [
        "train_encodings = tokenizer(X_train, truncation=True, padding=True, max_length=300)\n",
        "test_encodings = tokenizer(X_test, truncation=True, padding=True, max_length=300)\n",
        "val_encodings = tokenizer(X_val, truncation=True, padding=True, max_length=300)"
      ],
      "metadata": {
        "id": "riytro0zvCEz"
      },
      "execution_count": null,
      "outputs": []
    },
    {
      "cell_type": "code",
      "source": [
        "train_dataset = NewsDataset(train_encodings, y_train)\n",
        "test_dataset = NewsDataset(test_encodings, y_test)\n",
        "val_dataset = NewsDataset(val_encodings, y_val)"
      ],
      "metadata": {
        "id": "uZ9L7lk9vFBl"
      },
      "execution_count": null,
      "outputs": []
    },
    {
      "cell_type": "code",
      "source": [
        "acc_metric = load_metric(\"accuracy\")\n",
        "precision_metric = load_metric(\"precision\")\n",
        "recall_metric = load_metric(\"recall\")\n",
        "f1_metric = load_metric(\"f1\")\n",
        "\n",
        "# we'll log several evaluation metrics as accuracy alone does not show the whole picture\n",
        "def compute_metrics(eval_pred):\n",
        "    predictions, labels = eval_pred\n",
        "    predictions = np.argmax(predictions, axis=1)\n",
        "    acc = acc_metric.compute(predictions=predictions, references=labels)[\"accuracy\"]\n",
        "    precision = precision_metric.compute(predictions=predictions, references=labels)[\"precision\"]\n",
        "    recall = recall_metric.compute(predictions=predictions, references=labels)[\"recall\"]\n",
        "    f1 = f1_metric.compute(predictions=predictions, references=labels)[\"f1\"]\n",
        "    return {\"acc\": acc, \"precision\": precision, \"recall\": recall, \"f1 score\": f1}"
      ],
      "metadata": {
        "colab": {
          "base_uri": "https://localhost:8080/"
        },
        "id": "2Jomlv-ovNPY",
        "outputId": "957b499e-d896-4c88-b71f-376bb177aee3"
      },
      "execution_count": null,
      "outputs": [
        {
          "output_type": "stream",
          "name": "stderr",
          "text": [
            "<ipython-input-21-dc1db7a3446e>:1: FutureWarning: load_metric is deprecated and will be removed in the next major version of datasets. Use 'evaluate.load' instead, from the new library 🤗 Evaluate: https://huggingface.co/docs/evaluate\n",
            "  acc_metric = load_metric(\"accuracy\")\n"
          ]
        }
      ]
    },
    {
      "cell_type": "code",
      "source": [
        "from transformers import TrainingArguments, Trainer\n",
        "\n",
        "training_args = TrainingArguments(\n",
        "    output_dir=\"./results\",\n",
        "    num_train_epochs=5,\n",
        "    per_device_train_batch_size=50,\n",
        "    per_device_eval_batch_size=128,\n",
        "    #warmup_steps=500,\n",
        "    learning_rate=3e-5,\n",
        "    weight_decay=0.01,\n",
        "    logging_dir=\"./logs\",\n",
        "    evaluation_strategy=\"epoch\",\n",
        "    save_strategy='epoch',\n",
        "\n",
        "    #eval_steps=100,\n",
        "    #logging_steps=100,\n",
        ")"
      ],
      "metadata": {
        "id": "t8IJBBHXvO2e"
      },
      "execution_count": null,
      "outputs": []
    },
    {
      "cell_type": "code",
      "source": [
        "trainer = Trainer(\n",
        "    model=model,\n",
        "    args=training_args,\n",
        "    train_dataset=train_dataset,\n",
        "    eval_dataset=val_dataset,\n",
        "    compute_metrics=compute_metrics\n",
        ")"
      ],
      "metadata": {
        "id": "oSZbXXuyvP1_"
      },
      "execution_count": null,
      "outputs": []
    },
    {
      "cell_type": "code",
      "source": [
        "trainer.train()"
      ],
      "metadata": {
        "id": "AMMMXh9-vQ-m",
        "colab": {
          "base_uri": "https://localhost:8080/",
          "height": 234
        },
        "outputId": "cbcf7274-258e-45a7-db22-1062e9dbf128"
      },
      "execution_count": null,
      "outputs": [
        {
          "output_type": "stream",
          "name": "stderr",
          "text": [
            "/usr/local/lib/python3.10/dist-packages/transformers/optimization.py:411: FutureWarning: This implementation of AdamW is deprecated and will be removed in a future version. Use the PyTorch implementation torch.optim.AdamW instead, or set `no_deprecation_warning=True` to disable this warning\n",
            "  warnings.warn(\n",
            "\u001b[34m\u001b[1mwandb\u001b[0m: Currently logged in as: \u001b[33mvshishkin\u001b[0m. Use \u001b[1m`wandb login --relogin`\u001b[0m to force relogin\n"
          ]
        },
        {
          "output_type": "display_data",
          "data": {
            "text/plain": [
              "<IPython.core.display.HTML object>"
            ],
            "text/html": [
              "Tracking run with wandb version 0.15.4"
            ]
          },
          "metadata": {}
        },
        {
          "output_type": "display_data",
          "data": {
            "text/plain": [
              "<IPython.core.display.HTML object>"
            ],
            "text/html": [
              "Run data is saved locally in <code>/content/wandb/run-20230614_223336-m5hzz9a8</code>"
            ]
          },
          "metadata": {}
        },
        {
          "output_type": "display_data",
          "data": {
            "text/plain": [
              "<IPython.core.display.HTML object>"
            ],
            "text/html": [
              "Syncing run <strong><a href='https://wandb.ai/vshishkin/huggingface/runs/m5hzz9a8' target=\"_blank\">treasured-monkey-27</a></strong> to <a href='https://wandb.ai/vshishkin/huggingface' target=\"_blank\">Weights & Biases</a> (<a href='https://wandb.me/run' target=\"_blank\">docs</a>)<br/>"
            ]
          },
          "metadata": {}
        },
        {
          "output_type": "display_data",
          "data": {
            "text/plain": [
              "<IPython.core.display.HTML object>"
            ],
            "text/html": [
              " View project at <a href='https://wandb.ai/vshishkin/huggingface' target=\"_blank\">https://wandb.ai/vshishkin/huggingface</a>"
            ]
          },
          "metadata": {}
        },
        {
          "output_type": "display_data",
          "data": {
            "text/plain": [
              "<IPython.core.display.HTML object>"
            ],
            "text/html": [
              " View run at <a href='https://wandb.ai/vshishkin/huggingface/runs/m5hzz9a8' target=\"_blank\">https://wandb.ai/vshishkin/huggingface/runs/m5hzz9a8</a>"
            ]
          },
          "metadata": {}
        },
        {
          "output_type": "display_data",
          "data": {
            "text/plain": [
              "<IPython.core.display.HTML object>"
            ],
            "text/html": [
              "\n",
              "    <div>\n",
              "      \n",
              "      <progress value='718' max='8430' style='width:300px; height:20px; vertical-align: middle;'></progress>\n",
              "      [ 718/8430 24:16 < 4:21:24, 0.49 it/s, Epoch 0.43/5]\n",
              "    </div>\n",
              "    <table border=\"1\" class=\"dataframe\">\n",
              "  <thead>\n",
              " <tr style=\"text-align: left;\">\n",
              "      <th>Epoch</th>\n",
              "      <th>Training Loss</th>\n",
              "      <th>Validation Loss</th>\n",
              "    </tr>\n",
              "  </thead>\n",
              "  <tbody>\n",
              "  </tbody>\n",
              "</table><p>"
            ]
          },
          "metadata": {}
        }
      ]
    },
    {
      "cell_type": "code",
      "source": [
        "eval_res = trainer.evaluate(test_dataset)"
      ],
      "metadata": {
        "id": "bE6VVrApvSzv"
      },
      "execution_count": null,
      "outputs": []
    },
    {
      "cell_type": "code",
      "source": [
        "eval_res"
      ],
      "metadata": {
        "id": "67-Ugb_Wm7ic"
      },
      "execution_count": null,
      "outputs": []
    },
    {
      "cell_type": "code",
      "source": [
        "model"
      ],
      "metadata": {
        "id": "mmvuDegsrDXI"
      },
      "execution_count": null,
      "outputs": []
    },
    {
      "cell_type": "code",
      "source": [
        "import json\n",
        "with open(f\"eval_res.txt\", 'w+') as f:\n",
        "  f.write(json.dumps(eval_res))\n"
      ],
      "metadata": {
        "id": "yWmrOR2mGXuG"
      },
      "execution_count": null,
      "outputs": []
    },
    {
      "cell_type": "markdown",
      "source": [
        "# Checkpoint evaluation"
      ],
      "metadata": {
        "id": "wubuLFEFYPsP"
      }
    },
    {
      "cell_type": "code",
      "source": [
        "model_name = \"/content/results/checkpoint-3372\"\n",
        "model = AutoModelForSequenceClassification.from_pretrained(model_name, num_labels=2)\n",
        "tokenizer = AutoTokenizer.from_pretrained(\"bert-base-uncased\")"
      ],
      "metadata": {
        "id": "k1nnmXLmngWP"
      },
      "execution_count": null,
      "outputs": []
    },
    {
      "cell_type": "code",
      "source": [
        "from transformers import TrainingArguments, Trainer\n",
        "\n",
        "training_args = TrainingArguments(\n",
        "    output_dir=\"./results\",\n",
        "    num_train_epochs=5,\n",
        "    per_device_train_batch_size=50,\n",
        "    per_device_eval_batch_size=128,\n",
        "    learning_rate=3e-5,\n",
        "    weight_decay=0.01,\n",
        "    logging_dir=\"./logs\",\n",
        "    evaluation_strategy=\"epoch\",\n",
        "    save_strategy='epoch',\n",
        ")\n",
        "\n",
        "trainer = Trainer(\n",
        "    model=model,\n",
        "    args=training_args,\n",
        "    train_dataset=train_dataset,\n",
        "    eval_dataset=val_dataset,\n",
        "    compute_metrics=compute_metrics\n",
        ")"
      ],
      "metadata": {
        "id": "5soJ1XLcqMSj"
      },
      "execution_count": null,
      "outputs": []
    },
    {
      "cell_type": "code",
      "source": [
        "eval_res = trainer.evaluate(test_dataset)"
      ],
      "metadata": {
        "id": "YlwUM7XQYZnR"
      },
      "execution_count": null,
      "outputs": []
    },
    {
      "cell_type": "code",
      "source": [
        "eval_res"
      ],
      "metadata": {
        "id": "A5p1u5mRYp2t"
      },
      "execution_count": null,
      "outputs": []
    }
  ]
}